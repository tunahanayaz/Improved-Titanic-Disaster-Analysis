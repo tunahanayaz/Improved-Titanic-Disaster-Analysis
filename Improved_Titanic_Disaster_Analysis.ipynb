{
  "nbformat": 4,
  "nbformat_minor": 0,
  "metadata": {
    "colab": {
      "provenance": [],
      "authorship_tag": "ABX9TyPXEkVGkYic+Sysz7uMQ/B2",
      "include_colab_link": true
    },
    "kernelspec": {
      "name": "python3",
      "display_name": "Python 3"
    },
    "language_info": {
      "name": "python"
    }
  },
  "cells": [
    {
      "cell_type": "markdown",
      "metadata": {
        "id": "view-in-github",
        "colab_type": "text"
      },
      "source": [
        "<a href=\"https://colab.research.google.com/github/tunahanayaz/Improved-Titanic-Disaster-Analysis/blob/main/Improved_Titanic_Disaster_Analysis.ipynb\" target=\"_parent\"><img src=\"https://colab.research.google.com/assets/colab-badge.svg\" alt=\"Open In Colab\"/></a>"
      ]
    },
    {
      "cell_type": "code",
      "execution_count": 12,
      "metadata": {
        "id": "4WIcheDAECny"
      },
      "outputs": [],
      "source": [
        "import numpy as np\n",
        "import pandas as pd\n",
        "import matplotlib.pyplot as plt\n",
        "import seaborn as sns"
      ]
    },
    {
      "cell_type": "code",
      "source": [
        "df = sns.load_dataset(\"titanic\")\n",
        "pd.set_option(\"display.max_columns\",None)\n",
        "pd.set_option(\"display.width\", 500)"
      ],
      "metadata": {
        "id": "r5iYHJk-EKyu"
      },
      "execution_count": 13,
      "outputs": []
    },
    {
      "cell_type": "code",
      "source": [
        "def check_df(dataframe, head = 5):\n",
        "  print(\"############## Shape #############\")\n",
        "  print(dataframe.shape)\n",
        "  print(\"############## Types #############\")\n",
        "  print(dataframe.dtypes)\n",
        "  print(\"############## Head ##############\")\n",
        "  print(dataframe.head())\n",
        "  print(\"############## Tail ##############\")\n",
        "  print(dataframe.tail())\n",
        "  print(\"############## NA ##############\")\n",
        "  print(dataframe.isnull().sum())\n",
        "  print(\"############## Quantiles ##############\")\n",
        "  print(dataframe.describe().T)"
      ],
      "metadata": {
        "id": "VbeIq0J-GeLU"
      },
      "execution_count": 14,
      "outputs": []
    },
    {
      "cell_type": "code",
      "source": [
        "check_df(df)"
      ],
      "metadata": {
        "colab": {
          "base_uri": "https://localhost:8080/"
        },
        "id": "MQL1rZWJH6Nt",
        "outputId": "fe1cd781-7435-41a7-9945-b946901eec23"
      },
      "execution_count": 15,
      "outputs": [
        {
          "output_type": "stream",
          "name": "stdout",
          "text": [
            "############## Shape #############\n",
            "(891, 15)\n",
            "############## Types #############\n",
            "survived          int64\n",
            "pclass            int64\n",
            "sex              object\n",
            "age             float64\n",
            "sibsp             int64\n",
            "parch             int64\n",
            "fare            float64\n",
            "embarked         object\n",
            "class          category\n",
            "who              object\n",
            "adult_male         bool\n",
            "deck           category\n",
            "embark_town      object\n",
            "alive            object\n",
            "alone              bool\n",
            "dtype: object\n",
            "############## Head ##############\n",
            "   survived  pclass     sex   age  sibsp  parch     fare embarked  class    who  adult_male deck  embark_town alive  alone\n",
            "0         0       3    male  22.0      1      0   7.2500        S  Third    man        True  NaN  Southampton    no  False\n",
            "1         1       1  female  38.0      1      0  71.2833        C  First  woman       False    C    Cherbourg   yes  False\n",
            "2         1       3  female  26.0      0      0   7.9250        S  Third  woman       False  NaN  Southampton   yes   True\n",
            "3         1       1  female  35.0      1      0  53.1000        S  First  woman       False    C  Southampton   yes  False\n",
            "4         0       3    male  35.0      0      0   8.0500        S  Third    man        True  NaN  Southampton    no   True\n",
            "############## Tail ##############\n",
            "     survived  pclass     sex   age  sibsp  parch   fare embarked   class    who  adult_male deck  embark_town alive  alone\n",
            "886         0       2    male  27.0      0      0  13.00        S  Second    man        True  NaN  Southampton    no   True\n",
            "887         1       1  female  19.0      0      0  30.00        S   First  woman       False    B  Southampton   yes   True\n",
            "888         0       3  female   NaN      1      2  23.45        S   Third  woman       False  NaN  Southampton    no  False\n",
            "889         1       1    male  26.0      0      0  30.00        C   First    man        True    C    Cherbourg   yes   True\n",
            "890         0       3    male  32.0      0      0   7.75        Q   Third    man        True  NaN   Queenstown    no   True\n",
            "############## NA ##############\n",
            "survived         0\n",
            "pclass           0\n",
            "sex              0\n",
            "age            177\n",
            "sibsp            0\n",
            "parch            0\n",
            "fare             0\n",
            "embarked         2\n",
            "class            0\n",
            "who              0\n",
            "adult_male       0\n",
            "deck           688\n",
            "embark_town      2\n",
            "alive            0\n",
            "alone            0\n",
            "dtype: int64\n",
            "############## Quantiles ##############\n",
            "          count       mean        std   min      25%      50%   75%       max\n",
            "survived  891.0   0.383838   0.486592  0.00   0.0000   0.0000   1.0    1.0000\n",
            "pclass    891.0   2.308642   0.836071  1.00   2.0000   3.0000   3.0    3.0000\n",
            "age       714.0  29.699118  14.526497  0.42  20.1250  28.0000  38.0   80.0000\n",
            "sibsp     891.0   0.523008   1.102743  0.00   0.0000   0.0000   1.0    8.0000\n",
            "parch     891.0   0.381594   0.806057  0.00   0.0000   0.0000   0.0    6.0000\n",
            "fare      891.0  32.204208  49.693429  0.00   7.9104  14.4542  31.0  512.3292\n"
          ]
        }
      ]
    },
    {
      "cell_type": "markdown",
      "source": [
        "#EDA"
      ],
      "metadata": {
        "id": "uGYqLyTMJ62Z"
      }
    },
    {
      "cell_type": "code",
      "source": [
        "df[\"embarked\"].value_counts()"
      ],
      "metadata": {
        "colab": {
          "base_uri": "https://localhost:8080/"
        },
        "id": "S7SkdEZoJab8",
        "outputId": "3f80998e-75bb-45a2-80da-ed1a4d023fef"
      },
      "execution_count": 16,
      "outputs": [
        {
          "output_type": "execute_result",
          "data": {
            "text/plain": [
              "S    644\n",
              "C    168\n",
              "Q     77\n",
              "Name: embarked, dtype: int64"
            ]
          },
          "metadata": {},
          "execution_count": 16
        }
      ]
    },
    {
      "cell_type": "code",
      "source": [
        "df[\"sex\"].unique()"
      ],
      "metadata": {
        "colab": {
          "base_uri": "https://localhost:8080/"
        },
        "id": "6WMyTW2BKbHS",
        "outputId": "c6b34585-e2d7-402d-87ec-710f5f47cf32"
      },
      "execution_count": 17,
      "outputs": [
        {
          "output_type": "execute_result",
          "data": {
            "text/plain": [
              "array(['male', 'female'], dtype=object)"
            ]
          },
          "metadata": {},
          "execution_count": 17
        }
      ]
    },
    {
      "cell_type": "code",
      "source": [
        "df[\"sex\"].nunique()"
      ],
      "metadata": {
        "colab": {
          "base_uri": "https://localhost:8080/"
        },
        "id": "sGICa2RMKbEt",
        "outputId": "b2d2b779-e7c2-4af2-b6ea-420d75523789"
      },
      "execution_count": 18,
      "outputs": [
        {
          "output_type": "execute_result",
          "data": {
            "text/plain": [
              "2"
            ]
          },
          "metadata": {},
          "execution_count": 18
        }
      ]
    },
    {
      "cell_type": "code",
      "source": [
        "cat_cols = [col for col in df.columns if str(df[col].dtypes) in [\"category\",\"object\",\"bool\"]]"
      ],
      "metadata": {
        "id": "ENFyPImwKbCX"
      },
      "execution_count": 19,
      "outputs": []
    },
    {
      "cell_type": "code",
      "source": [
        "cat_cols"
      ],
      "metadata": {
        "colab": {
          "base_uri": "https://localhost:8080/"
        },
        "id": "VHpj3soPKbAA",
        "outputId": "56adf2b8-a316-47ab-82a8-be21af3f60c8"
      },
      "execution_count": 20,
      "outputs": [
        {
          "output_type": "execute_result",
          "data": {
            "text/plain": [
              "['sex',\n",
              " 'embarked',\n",
              " 'class',\n",
              " 'who',\n",
              " 'adult_male',\n",
              " 'deck',\n",
              " 'embark_town',\n",
              " 'alive',\n",
              " 'alone']"
            ]
          },
          "metadata": {},
          "execution_count": 20
        }
      ]
    },
    {
      "cell_type": "code",
      "source": [
        "num_but_cat = [col for col in df.columns if (df[col].nunique() < 10) & ((df[col].dtype) in [\"int64\",\"float64\"])]"
      ],
      "metadata": {
        "id": "yjCC3T7sKa3I"
      },
      "execution_count": 21,
      "outputs": []
    },
    {
      "cell_type": "code",
      "source": [
        "num_but_cat"
      ],
      "metadata": {
        "colab": {
          "base_uri": "https://localhost:8080/"
        },
        "id": "S3M6K9upU03f",
        "outputId": "cd36d5ea-6b8b-4e34-f8fa-68bd5f25c016"
      },
      "execution_count": 22,
      "outputs": [
        {
          "output_type": "execute_result",
          "data": {
            "text/plain": [
              "['survived', 'pclass', 'sibsp', 'parch']"
            ]
          },
          "metadata": {},
          "execution_count": 22
        }
      ]
    },
    {
      "cell_type": "code",
      "source": [
        "cat_but_car = [col for col in df.columns if df[col].nunique() > 20 and str(df[col].dtypes) in [\"category\",\"object\"]]"
      ],
      "metadata": {
        "id": "GBMZVnnbVfJA"
      },
      "execution_count": 23,
      "outputs": []
    },
    {
      "cell_type": "code",
      "source": [
        "cat_but_car"
      ],
      "metadata": {
        "colab": {
          "base_uri": "https://localhost:8080/"
        },
        "id": "h_aUcY4DWAzy",
        "outputId": "d255c0d6-0bfb-43d4-8dc8-991d4d22c000"
      },
      "execution_count": 24,
      "outputs": [
        {
          "output_type": "execute_result",
          "data": {
            "text/plain": [
              "[]"
            ]
          },
          "metadata": {},
          "execution_count": 24
        }
      ]
    },
    {
      "cell_type": "code",
      "source": [
        "cat_cols = cat_cols + num_but_cat"
      ],
      "metadata": {
        "id": "YFJjBvBUWrKB"
      },
      "execution_count": 25,
      "outputs": []
    },
    {
      "cell_type": "code",
      "source": [
        "cat_cols = [col for col in cat_cols if col not in cat_but_car]"
      ],
      "metadata": {
        "id": "M-FeW7FUWw3w"
      },
      "execution_count": 26,
      "outputs": []
    },
    {
      "cell_type": "code",
      "source": [
        "cat_cols"
      ],
      "metadata": {
        "colab": {
          "base_uri": "https://localhost:8080/"
        },
        "id": "sRJzucA6XAn9",
        "outputId": "7f65ff71-f137-41b0-9c8a-ba6bc430ea81"
      },
      "execution_count": 27,
      "outputs": [
        {
          "output_type": "execute_result",
          "data": {
            "text/plain": [
              "['sex',\n",
              " 'embarked',\n",
              " 'class',\n",
              " 'who',\n",
              " 'adult_male',\n",
              " 'deck',\n",
              " 'embark_town',\n",
              " 'alive',\n",
              " 'alone',\n",
              " 'survived',\n",
              " 'pclass',\n",
              " 'sibsp',\n",
              " 'parch']"
            ]
          },
          "metadata": {},
          "execution_count": 27
        }
      ]
    },
    {
      "cell_type": "code",
      "source": [
        "df[cat_cols]"
      ],
      "metadata": {
        "colab": {
          "base_uri": "https://localhost:8080/",
          "height": 424
        },
        "id": "iMFEg04xXTIv",
        "outputId": "62a7972e-c3b9-41bb-d698-82a921fe68ee"
      },
      "execution_count": 28,
      "outputs": [
        {
          "output_type": "execute_result",
          "data": {
            "text/plain": [
              "        sex embarked   class    who  adult_male deck  embark_town alive  alone  survived  pclass  sibsp  parch\n",
              "0      male        S   Third    man        True  NaN  Southampton    no  False         0       3      1      0\n",
              "1    female        C   First  woman       False    C    Cherbourg   yes  False         1       1      1      0\n",
              "2    female        S   Third  woman       False  NaN  Southampton   yes   True         1       3      0      0\n",
              "3    female        S   First  woman       False    C  Southampton   yes  False         1       1      1      0\n",
              "4      male        S   Third    man        True  NaN  Southampton    no   True         0       3      0      0\n",
              "..      ...      ...     ...    ...         ...  ...          ...   ...    ...       ...     ...    ...    ...\n",
              "886    male        S  Second    man        True  NaN  Southampton    no   True         0       2      0      0\n",
              "887  female        S   First  woman       False    B  Southampton   yes   True         1       1      0      0\n",
              "888  female        S   Third  woman       False  NaN  Southampton    no  False         0       3      1      2\n",
              "889    male        C   First    man        True    C    Cherbourg   yes   True         1       1      0      0\n",
              "890    male        Q   Third    man        True  NaN   Queenstown    no   True         0       3      0      0\n",
              "\n",
              "[891 rows x 13 columns]"
            ],
            "text/html": [
              "\n",
              "  <div id=\"df-18eca501-0548-4bf4-866b-cfa23b58553a\" class=\"colab-df-container\">\n",
              "    <div>\n",
              "<style scoped>\n",
              "    .dataframe tbody tr th:only-of-type {\n",
              "        vertical-align: middle;\n",
              "    }\n",
              "\n",
              "    .dataframe tbody tr th {\n",
              "        vertical-align: top;\n",
              "    }\n",
              "\n",
              "    .dataframe thead th {\n",
              "        text-align: right;\n",
              "    }\n",
              "</style>\n",
              "<table border=\"1\" class=\"dataframe\">\n",
              "  <thead>\n",
              "    <tr style=\"text-align: right;\">\n",
              "      <th></th>\n",
              "      <th>sex</th>\n",
              "      <th>embarked</th>\n",
              "      <th>class</th>\n",
              "      <th>who</th>\n",
              "      <th>adult_male</th>\n",
              "      <th>deck</th>\n",
              "      <th>embark_town</th>\n",
              "      <th>alive</th>\n",
              "      <th>alone</th>\n",
              "      <th>survived</th>\n",
              "      <th>pclass</th>\n",
              "      <th>sibsp</th>\n",
              "      <th>parch</th>\n",
              "    </tr>\n",
              "  </thead>\n",
              "  <tbody>\n",
              "    <tr>\n",
              "      <th>0</th>\n",
              "      <td>male</td>\n",
              "      <td>S</td>\n",
              "      <td>Third</td>\n",
              "      <td>man</td>\n",
              "      <td>True</td>\n",
              "      <td>NaN</td>\n",
              "      <td>Southampton</td>\n",
              "      <td>no</td>\n",
              "      <td>False</td>\n",
              "      <td>0</td>\n",
              "      <td>3</td>\n",
              "      <td>1</td>\n",
              "      <td>0</td>\n",
              "    </tr>\n",
              "    <tr>\n",
              "      <th>1</th>\n",
              "      <td>female</td>\n",
              "      <td>C</td>\n",
              "      <td>First</td>\n",
              "      <td>woman</td>\n",
              "      <td>False</td>\n",
              "      <td>C</td>\n",
              "      <td>Cherbourg</td>\n",
              "      <td>yes</td>\n",
              "      <td>False</td>\n",
              "      <td>1</td>\n",
              "      <td>1</td>\n",
              "      <td>1</td>\n",
              "      <td>0</td>\n",
              "    </tr>\n",
              "    <tr>\n",
              "      <th>2</th>\n",
              "      <td>female</td>\n",
              "      <td>S</td>\n",
              "      <td>Third</td>\n",
              "      <td>woman</td>\n",
              "      <td>False</td>\n",
              "      <td>NaN</td>\n",
              "      <td>Southampton</td>\n",
              "      <td>yes</td>\n",
              "      <td>True</td>\n",
              "      <td>1</td>\n",
              "      <td>3</td>\n",
              "      <td>0</td>\n",
              "      <td>0</td>\n",
              "    </tr>\n",
              "    <tr>\n",
              "      <th>3</th>\n",
              "      <td>female</td>\n",
              "      <td>S</td>\n",
              "      <td>First</td>\n",
              "      <td>woman</td>\n",
              "      <td>False</td>\n",
              "      <td>C</td>\n",
              "      <td>Southampton</td>\n",
              "      <td>yes</td>\n",
              "      <td>False</td>\n",
              "      <td>1</td>\n",
              "      <td>1</td>\n",
              "      <td>1</td>\n",
              "      <td>0</td>\n",
              "    </tr>\n",
              "    <tr>\n",
              "      <th>4</th>\n",
              "      <td>male</td>\n",
              "      <td>S</td>\n",
              "      <td>Third</td>\n",
              "      <td>man</td>\n",
              "      <td>True</td>\n",
              "      <td>NaN</td>\n",
              "      <td>Southampton</td>\n",
              "      <td>no</td>\n",
              "      <td>True</td>\n",
              "      <td>0</td>\n",
              "      <td>3</td>\n",
              "      <td>0</td>\n",
              "      <td>0</td>\n",
              "    </tr>\n",
              "    <tr>\n",
              "      <th>...</th>\n",
              "      <td>...</td>\n",
              "      <td>...</td>\n",
              "      <td>...</td>\n",
              "      <td>...</td>\n",
              "      <td>...</td>\n",
              "      <td>...</td>\n",
              "      <td>...</td>\n",
              "      <td>...</td>\n",
              "      <td>...</td>\n",
              "      <td>...</td>\n",
              "      <td>...</td>\n",
              "      <td>...</td>\n",
              "      <td>...</td>\n",
              "    </tr>\n",
              "    <tr>\n",
              "      <th>886</th>\n",
              "      <td>male</td>\n",
              "      <td>S</td>\n",
              "      <td>Second</td>\n",
              "      <td>man</td>\n",
              "      <td>True</td>\n",
              "      <td>NaN</td>\n",
              "      <td>Southampton</td>\n",
              "      <td>no</td>\n",
              "      <td>True</td>\n",
              "      <td>0</td>\n",
              "      <td>2</td>\n",
              "      <td>0</td>\n",
              "      <td>0</td>\n",
              "    </tr>\n",
              "    <tr>\n",
              "      <th>887</th>\n",
              "      <td>female</td>\n",
              "      <td>S</td>\n",
              "      <td>First</td>\n",
              "      <td>woman</td>\n",
              "      <td>False</td>\n",
              "      <td>B</td>\n",
              "      <td>Southampton</td>\n",
              "      <td>yes</td>\n",
              "      <td>True</td>\n",
              "      <td>1</td>\n",
              "      <td>1</td>\n",
              "      <td>0</td>\n",
              "      <td>0</td>\n",
              "    </tr>\n",
              "    <tr>\n",
              "      <th>888</th>\n",
              "      <td>female</td>\n",
              "      <td>S</td>\n",
              "      <td>Third</td>\n",
              "      <td>woman</td>\n",
              "      <td>False</td>\n",
              "      <td>NaN</td>\n",
              "      <td>Southampton</td>\n",
              "      <td>no</td>\n",
              "      <td>False</td>\n",
              "      <td>0</td>\n",
              "      <td>3</td>\n",
              "      <td>1</td>\n",
              "      <td>2</td>\n",
              "    </tr>\n",
              "    <tr>\n",
              "      <th>889</th>\n",
              "      <td>male</td>\n",
              "      <td>C</td>\n",
              "      <td>First</td>\n",
              "      <td>man</td>\n",
              "      <td>True</td>\n",
              "      <td>C</td>\n",
              "      <td>Cherbourg</td>\n",
              "      <td>yes</td>\n",
              "      <td>True</td>\n",
              "      <td>1</td>\n",
              "      <td>1</td>\n",
              "      <td>0</td>\n",
              "      <td>0</td>\n",
              "    </tr>\n",
              "    <tr>\n",
              "      <th>890</th>\n",
              "      <td>male</td>\n",
              "      <td>Q</td>\n",
              "      <td>Third</td>\n",
              "      <td>man</td>\n",
              "      <td>True</td>\n",
              "      <td>NaN</td>\n",
              "      <td>Queenstown</td>\n",
              "      <td>no</td>\n",
              "      <td>True</td>\n",
              "      <td>0</td>\n",
              "      <td>3</td>\n",
              "      <td>0</td>\n",
              "      <td>0</td>\n",
              "    </tr>\n",
              "  </tbody>\n",
              "</table>\n",
              "<p>891 rows × 13 columns</p>\n",
              "</div>\n",
              "    <div class=\"colab-df-buttons\">\n",
              "\n",
              "  <div class=\"colab-df-container\">\n",
              "    <button class=\"colab-df-convert\" onclick=\"convertToInteractive('df-18eca501-0548-4bf4-866b-cfa23b58553a')\"\n",
              "            title=\"Convert this dataframe to an interactive table.\"\n",
              "            style=\"display:none;\">\n",
              "\n",
              "  <svg xmlns=\"http://www.w3.org/2000/svg\" height=\"24px\" viewBox=\"0 -960 960 960\">\n",
              "    <path d=\"M120-120v-720h720v720H120Zm60-500h600v-160H180v160Zm220 220h160v-160H400v160Zm0 220h160v-160H400v160ZM180-400h160v-160H180v160Zm440 0h160v-160H620v160ZM180-180h160v-160H180v160Zm440 0h160v-160H620v160Z\"/>\n",
              "  </svg>\n",
              "    </button>\n",
              "\n",
              "  <style>\n",
              "    .colab-df-container {\n",
              "      display:flex;\n",
              "      gap: 12px;\n",
              "    }\n",
              "\n",
              "    .colab-df-convert {\n",
              "      background-color: #E8F0FE;\n",
              "      border: none;\n",
              "      border-radius: 50%;\n",
              "      cursor: pointer;\n",
              "      display: none;\n",
              "      fill: #1967D2;\n",
              "      height: 32px;\n",
              "      padding: 0 0 0 0;\n",
              "      width: 32px;\n",
              "    }\n",
              "\n",
              "    .colab-df-convert:hover {\n",
              "      background-color: #E2EBFA;\n",
              "      box-shadow: 0px 1px 2px rgba(60, 64, 67, 0.3), 0px 1px 3px 1px rgba(60, 64, 67, 0.15);\n",
              "      fill: #174EA6;\n",
              "    }\n",
              "\n",
              "    .colab-df-buttons div {\n",
              "      margin-bottom: 4px;\n",
              "    }\n",
              "\n",
              "    [theme=dark] .colab-df-convert {\n",
              "      background-color: #3B4455;\n",
              "      fill: #D2E3FC;\n",
              "    }\n",
              "\n",
              "    [theme=dark] .colab-df-convert:hover {\n",
              "      background-color: #434B5C;\n",
              "      box-shadow: 0px 1px 3px 1px rgba(0, 0, 0, 0.15);\n",
              "      filter: drop-shadow(0px 1px 2px rgba(0, 0, 0, 0.3));\n",
              "      fill: #FFFFFF;\n",
              "    }\n",
              "  </style>\n",
              "\n",
              "    <script>\n",
              "      const buttonEl =\n",
              "        document.querySelector('#df-18eca501-0548-4bf4-866b-cfa23b58553a button.colab-df-convert');\n",
              "      buttonEl.style.display =\n",
              "        google.colab.kernel.accessAllowed ? 'block' : 'none';\n",
              "\n",
              "      async function convertToInteractive(key) {\n",
              "        const element = document.querySelector('#df-18eca501-0548-4bf4-866b-cfa23b58553a');\n",
              "        const dataTable =\n",
              "          await google.colab.kernel.invokeFunction('convertToInteractive',\n",
              "                                                    [key], {});\n",
              "        if (!dataTable) return;\n",
              "\n",
              "        const docLinkHtml = 'Like what you see? Visit the ' +\n",
              "          '<a target=\"_blank\" href=https://colab.research.google.com/notebooks/data_table.ipynb>data table notebook</a>'\n",
              "          + ' to learn more about interactive tables.';\n",
              "        element.innerHTML = '';\n",
              "        dataTable['output_type'] = 'display_data';\n",
              "        await google.colab.output.renderOutput(dataTable, element);\n",
              "        const docLink = document.createElement('div');\n",
              "        docLink.innerHTML = docLinkHtml;\n",
              "        element.appendChild(docLink);\n",
              "      }\n",
              "    </script>\n",
              "  </div>\n",
              "\n",
              "\n",
              "<div id=\"df-9db89b8e-0d96-4cb8-8c98-9765f1c1287c\">\n",
              "  <button class=\"colab-df-quickchart\" onclick=\"quickchart('df-9db89b8e-0d96-4cb8-8c98-9765f1c1287c')\"\n",
              "            title=\"Suggest charts.\"\n",
              "            style=\"display:none;\">\n",
              "\n",
              "<svg xmlns=\"http://www.w3.org/2000/svg\" height=\"24px\"viewBox=\"0 0 24 24\"\n",
              "     width=\"24px\">\n",
              "    <g>\n",
              "        <path d=\"M19 3H5c-1.1 0-2 .9-2 2v14c0 1.1.9 2 2 2h14c1.1 0 2-.9 2-2V5c0-1.1-.9-2-2-2zM9 17H7v-7h2v7zm4 0h-2V7h2v10zm4 0h-2v-4h2v4z\"/>\n",
              "    </g>\n",
              "</svg>\n",
              "  </button>\n",
              "\n",
              "<style>\n",
              "  .colab-df-quickchart {\n",
              "      --bg-color: #E8F0FE;\n",
              "      --fill-color: #1967D2;\n",
              "      --hover-bg-color: #E2EBFA;\n",
              "      --hover-fill-color: #174EA6;\n",
              "      --disabled-fill-color: #AAA;\n",
              "      --disabled-bg-color: #DDD;\n",
              "  }\n",
              "\n",
              "  [theme=dark] .colab-df-quickchart {\n",
              "      --bg-color: #3B4455;\n",
              "      --fill-color: #D2E3FC;\n",
              "      --hover-bg-color: #434B5C;\n",
              "      --hover-fill-color: #FFFFFF;\n",
              "      --disabled-bg-color: #3B4455;\n",
              "      --disabled-fill-color: #666;\n",
              "  }\n",
              "\n",
              "  .colab-df-quickchart {\n",
              "    background-color: var(--bg-color);\n",
              "    border: none;\n",
              "    border-radius: 50%;\n",
              "    cursor: pointer;\n",
              "    display: none;\n",
              "    fill: var(--fill-color);\n",
              "    height: 32px;\n",
              "    padding: 0;\n",
              "    width: 32px;\n",
              "  }\n",
              "\n",
              "  .colab-df-quickchart:hover {\n",
              "    background-color: var(--hover-bg-color);\n",
              "    box-shadow: 0 1px 2px rgba(60, 64, 67, 0.3), 0 1px 3px 1px rgba(60, 64, 67, 0.15);\n",
              "    fill: var(--button-hover-fill-color);\n",
              "  }\n",
              "\n",
              "  .colab-df-quickchart-complete:disabled,\n",
              "  .colab-df-quickchart-complete:disabled:hover {\n",
              "    background-color: var(--disabled-bg-color);\n",
              "    fill: var(--disabled-fill-color);\n",
              "    box-shadow: none;\n",
              "  }\n",
              "\n",
              "  .colab-df-spinner {\n",
              "    border: 2px solid var(--fill-color);\n",
              "    border-color: transparent;\n",
              "    border-bottom-color: var(--fill-color);\n",
              "    animation:\n",
              "      spin 1s steps(1) infinite;\n",
              "  }\n",
              "\n",
              "  @keyframes spin {\n",
              "    0% {\n",
              "      border-color: transparent;\n",
              "      border-bottom-color: var(--fill-color);\n",
              "      border-left-color: var(--fill-color);\n",
              "    }\n",
              "    20% {\n",
              "      border-color: transparent;\n",
              "      border-left-color: var(--fill-color);\n",
              "      border-top-color: var(--fill-color);\n",
              "    }\n",
              "    30% {\n",
              "      border-color: transparent;\n",
              "      border-left-color: var(--fill-color);\n",
              "      border-top-color: var(--fill-color);\n",
              "      border-right-color: var(--fill-color);\n",
              "    }\n",
              "    40% {\n",
              "      border-color: transparent;\n",
              "      border-right-color: var(--fill-color);\n",
              "      border-top-color: var(--fill-color);\n",
              "    }\n",
              "    60% {\n",
              "      border-color: transparent;\n",
              "      border-right-color: var(--fill-color);\n",
              "    }\n",
              "    80% {\n",
              "      border-color: transparent;\n",
              "      border-right-color: var(--fill-color);\n",
              "      border-bottom-color: var(--fill-color);\n",
              "    }\n",
              "    90% {\n",
              "      border-color: transparent;\n",
              "      border-bottom-color: var(--fill-color);\n",
              "    }\n",
              "  }\n",
              "</style>\n",
              "\n",
              "  <script>\n",
              "    async function quickchart(key) {\n",
              "      const quickchartButtonEl =\n",
              "        document.querySelector('#' + key + ' button');\n",
              "      quickchartButtonEl.disabled = true;  // To prevent multiple clicks.\n",
              "      quickchartButtonEl.classList.add('colab-df-spinner');\n",
              "      try {\n",
              "        const charts = await google.colab.kernel.invokeFunction(\n",
              "            'suggestCharts', [key], {});\n",
              "      } catch (error) {\n",
              "        console.error('Error during call to suggestCharts:', error);\n",
              "      }\n",
              "      quickchartButtonEl.classList.remove('colab-df-spinner');\n",
              "      quickchartButtonEl.classList.add('colab-df-quickchart-complete');\n",
              "    }\n",
              "    (() => {\n",
              "      let quickchartButtonEl =\n",
              "        document.querySelector('#df-9db89b8e-0d96-4cb8-8c98-9765f1c1287c button');\n",
              "      quickchartButtonEl.style.display =\n",
              "        google.colab.kernel.accessAllowed ? 'block' : 'none';\n",
              "    })();\n",
              "  </script>\n",
              "</div>\n",
              "    </div>\n",
              "  </div>\n"
            ]
          },
          "metadata": {},
          "execution_count": 28
        }
      ]
    },
    {
      "cell_type": "code",
      "source": [
        "df[cat_cols].nunique()"
      ],
      "metadata": {
        "colab": {
          "base_uri": "https://localhost:8080/"
        },
        "id": "9mEzJbTEXfeV",
        "outputId": "bd1bb4d3-6c5c-421b-9714-84526b6fd4c0"
      },
      "execution_count": 29,
      "outputs": [
        {
          "output_type": "execute_result",
          "data": {
            "text/plain": [
              "sex            2\n",
              "embarked       3\n",
              "class          3\n",
              "who            3\n",
              "adult_male     2\n",
              "deck           7\n",
              "embark_town    3\n",
              "alive          2\n",
              "alone          2\n",
              "survived       2\n",
              "pclass         3\n",
              "sibsp          7\n",
              "parch          7\n",
              "dtype: int64"
            ]
          },
          "metadata": {},
          "execution_count": 29
        }
      ]
    },
    {
      "cell_type": "code",
      "source": [
        "def cat_summary(dataframe, col_name):\n",
        "  print(pd.DataFrame({col_name: dataframe[col_name].value_counts(),\n",
        "                      \"Ratio\": 100 * dataframe[col_name].value_counts() / len(dataframe)}))\n",
        "  print(\"######################################\")"
      ],
      "metadata": {
        "id": "G6O1x8KRX4-p"
      },
      "execution_count": 32,
      "outputs": []
    },
    {
      "cell_type": "code",
      "source": [
        "cat_summary(df,\"sex\")"
      ],
      "metadata": {
        "colab": {
          "base_uri": "https://localhost:8080/"
        },
        "id": "qivpOfGKX48I",
        "outputId": "31cbab0d-f68e-4ce5-a9d1-b83ba2293b78"
      },
      "execution_count": 33,
      "outputs": [
        {
          "output_type": "stream",
          "name": "stdout",
          "text": [
            "        sex      Ratio\n",
            "male    577  64.758698\n",
            "female  314  35.241302\n",
            "######################################\n"
          ]
        }
      ]
    },
    {
      "cell_type": "code",
      "source": [
        "for col in cat_cols:\n",
        "  cat_summary(df,col)"
      ],
      "metadata": {
        "colab": {
          "base_uri": "https://localhost:8080/"
        },
        "id": "m9TEVOKgX43Q",
        "outputId": "ebf70212-5bcd-430c-e5ae-1f775d6cf96d"
      },
      "execution_count": 34,
      "outputs": [
        {
          "output_type": "stream",
          "name": "stdout",
          "text": [
            "        sex      Ratio\n",
            "male    577  64.758698\n",
            "female  314  35.241302\n",
            "######################################\n",
            "   embarked      Ratio\n",
            "S       644  72.278339\n",
            "C       168  18.855219\n",
            "Q        77   8.641975\n",
            "######################################\n",
            "        class      Ratio\n",
            "Third     491  55.106622\n",
            "First     216  24.242424\n",
            "Second    184  20.650954\n",
            "######################################\n",
            "       who      Ratio\n",
            "man    537  60.269360\n",
            "woman  271  30.415264\n",
            "child   83   9.315376\n",
            "######################################\n",
            "       adult_male     Ratio\n",
            "True          537  60.26936\n",
            "False         354  39.73064\n",
            "######################################\n",
            "   deck     Ratio\n",
            "C    59  6.621773\n",
            "B    47  5.274972\n",
            "D    33  3.703704\n",
            "E    32  3.591470\n",
            "A    15  1.683502\n",
            "F    13  1.459035\n",
            "G     4  0.448934\n",
            "######################################\n",
            "             embark_town      Ratio\n",
            "Southampton          644  72.278339\n",
            "Cherbourg            168  18.855219\n",
            "Queenstown            77   8.641975\n",
            "######################################\n",
            "     alive      Ratio\n",
            "no     549  61.616162\n",
            "yes    342  38.383838\n",
            "######################################\n",
            "       alone     Ratio\n",
            "True     537  60.26936\n",
            "False    354  39.73064\n",
            "######################################\n",
            "   survived      Ratio\n",
            "0       549  61.616162\n",
            "1       342  38.383838\n",
            "######################################\n",
            "   pclass      Ratio\n",
            "3     491  55.106622\n",
            "1     216  24.242424\n",
            "2     184  20.650954\n",
            "######################################\n",
            "   sibsp      Ratio\n",
            "0    608  68.237935\n",
            "1    209  23.456790\n",
            "2     28   3.142536\n",
            "4     18   2.020202\n",
            "3     16   1.795735\n",
            "8      7   0.785634\n",
            "5      5   0.561167\n",
            "######################################\n",
            "   parch      Ratio\n",
            "0    678  76.094276\n",
            "1    118  13.243547\n",
            "2     80   8.978676\n",
            "5      5   0.561167\n",
            "3      5   0.561167\n",
            "4      4   0.448934\n",
            "6      1   0.112233\n",
            "######################################\n"
          ]
        }
      ]
    },
    {
      "cell_type": "code",
      "source": [
        "def cat_summary(dataframe, col_name, plot = False):\n",
        "  print(pd.DataFrame({col_name: dataframe[col_name].value_counts(),\n",
        "                      \"Ratio\": 100 * dataframe[col_name].value_counts() / len(dataframe)}))\n",
        "  print(\"######################################\")\n",
        "\n",
        "  if plot:\n",
        "    sns.countplot(x=dataframe[col_name],data = dataframe)\n",
        "    plt.show(block=True)"
      ],
      "metadata": {
        "id": "HrIJjrCjTW1w"
      },
      "execution_count": 35,
      "outputs": []
    },
    {
      "cell_type": "code",
      "source": [
        "cat_summary(df,\"sex\",plot=True)"
      ],
      "metadata": {
        "colab": {
          "base_uri": "https://localhost:8080/",
          "height": 520
        },
        "id": "IZYkP2rhorRJ",
        "outputId": "835f5e3c-439c-40d7-be59-6b0fb9ca1e67"
      },
      "execution_count": 36,
      "outputs": [
        {
          "output_type": "stream",
          "name": "stdout",
          "text": [
            "        sex      Ratio\n",
            "male    577  64.758698\n",
            "female  314  35.241302\n",
            "######################################\n"
          ]
        },
        {
          "output_type": "display_data",
          "data": {
            "text/plain": [
              "<Figure size 640x480 with 1 Axes>"
            ],
            "image/png": "[encoded data removed]"
          },
          "metadata": {}
        }
      ]
    },
    {
      "cell_type": "code",
      "source": [
        "for col in cat_cols:\n",
        "  if df[col].dtypes ==\"bool\":\n",
        "    df[col] = df[col].astype(int)\n",
        "    cat_summary(df,col,plot=True)\n",
        "\n",
        "  else:\n",
        "    cat_summary(df,col, plot=True)"
      ],
      "metadata": {
        "colab": {
          "base_uri": "https://localhost:8080/",
          "height": 1000
        },
        "id": "t2vUQ0sQo0Yg",
        "outputId": "2a9de3c7-1f6e-46ba-e8c0-c5b9eabd00df"
      },
      "execution_count": 37,
      "outputs": [
        {
          "output_type": "stream",
          "name": "stdout",
          "text": [
            "        sex      Ratio\n",
            "male    577  64.758698\n",
            "female  314  35.241302\n",
            "######################################\n"
          ]
        },
        {
          "output_type": "display_data",
          "data": {
            "text/plain": [
              "<Figure size 640x480 with 1 Axes>"
            ],
            "image/png": "[encoded data removed]"
          },
          "metadata": {}
        },
        {
          "output_type": "stream",
          "name": "stdout",
          "text": [
            "   embarked      Ratio\n",
            "S       644  72.278339\n",
            "C       168  18.855219\n",
            "Q        77   8.641975\n",
            "######################################\n"
          ]
        },
        {
          "output_type": "display_data",
          "data": {
            "text/plain": [
              "<Figure size 640x480 with 1 Axes>"
            ],
            "image/png": "[encoded data removed]"
          },
          "metadata": {}
        },
        {
          "output_type": "stream",
          "name": "stdout",
          "text": [
            "        class      Ratio\n",
            "Third     491  55.106622\n",
            "First     216  24.242424\n",
            "Second    184  20.650954\n",
            "######################################\n"
          ]
        },
        {
          "output_type": "display_data",
          "data": {
            "text/plain": [
              "<Figure size 640x480 with 1 Axes>"
            ],
            "image/png": "[encoded data removed]"
          },
          "metadata": {}
        },
        {
          "output_type": "stream",
          "name": "stdout",
          "text": [
            "       who      Ratio\n",
            "man    537  60.269360\n",
            "woman  271  30.415264\n",
            "child   83   9.315376\n",
            "######################################\n"
          ]
        },
        {
          "output_type": "display_data",
          "data": {
            "text/plain": [
              "<Figure size 640x480 with 1 Axes>"
            ],
            "image/png": "[encoded data removed]"
          },
          "metadata": {}
        },
        {
          "output_type": "stream",
          "name": "stdout",
          "text": [
            "   adult_male     Ratio\n",
            "1         537  60.26936\n",
            "0         354  39.73064\n",
            "######################################\n"
          ]
        },
        {
          "output_type": "display_data",
          "data": {
            "text/plain": [
              "<Figure size 640x480 with 1 Axes>"
            ],
            "image/png": "[encoded data removed]"
          },
          "metadata": {}
        },
        {
          "output_type": "stream",
          "name": "stdout",
          "text": [
            "   deck     Ratio\n",
            "C    59  6.621773\n",
            "B    47  5.274972\n",
            "D    33  3.703704\n",
            "E    32  3.591470\n",
            "A    15  1.683502\n",
            "F    13  1.459035\n",
            "G     4  0.448934\n",
            "######################################\n"
          ]
        },
        {
          "output_type": "display_data",
          "data": {
            "text/plain": [
              "<Figure size 640x480 with 1 Axes>"
            ],
            "image/png": "[encoded data removed]"
          },
          "metadata": {}
        },
        {
          "output_type": "stream",
          "name": "stdout",
          "text": [
            "             embark_town      Ratio\n",
            "Southampton          644  72.278339\n",
            "Cherbourg            168  18.855219\n",
            "Queenstown            77   8.641975\n",
            "######################################\n"
          ]
        },
        {
          "output_type": "display_data",
          "data": {
            "text/plain": [
              "<Figure size 640x480 with 1 Axes>"
            ],
            "image/png": "[encoded data removed]"
          },
          "metadata": {}
        },
        {
          "output_type": "stream",
          "name": "stdout",
          "text": [
            "     alive      Ratio\n",
            "no     549  61.616162\n",
            "yes    342  38.383838\n",
            "######################################\n"
          ]
        },
        {
          "output_type": "display_data",
          "data": {
            "text/plain": [
              "<Figure size 640x480 with 1 Axes>"
            ],
            "image/png": "[encoded data removed]"
          },
          "metadata": {}
        },
        {
          "output_type": "stream",
          "name": "stdout",
          "text": [
            "   alone     Ratio\n",
            "1    537  60.26936\n",
            "0    354  39.73064\n",
            "######################################\n"
          ]
        },
        {
          "output_type": "display_data",
          "data": {
            "text/plain": [
              "<Figure size 640x480 with 1 Axes>"
            ],
            "image/png": "[encoded data removed]"
          },
          "metadata": {}
        },
        {
          "output_type": "stream",
          "name": "stdout",
          "text": [
            "   survived      Ratio\n",
            "0       549  61.616162\n",
            "1       342  38.383838\n",
            "######################################\n"
          ]
        },
        {
          "output_type": "display_data",
          "data": {
            "text/plain": [
              "<Figure size 640x480 with 1 Axes>"
            ],
            "image/png": "[encoded data removed]"
          },
          "metadata": {}
        },
        {
          "output_type": "stream",
          "name": "stdout",
          "text": [
            "   pclass      Ratio\n",
            "3     491  55.106622\n",
            "1     216  24.242424\n",
            "2     184  20.650954\n",
            "######################################\n"
          ]
        },
        {
          "output_type": "display_data",
          "data": {
            "text/plain": [
              "<Figure size 640x480 with 1 Axes>"
            ],
            "image/png": "[encoded data removed]"
          },
          "metadata": {}
        },
        {
          "output_type": "stream",
          "name": "stdout",
          "text": [
            "   sibsp      Ratio\n",
            "0    608  68.237935\n",
            "1    209  23.456790\n",
            "2     28   3.142536\n",
            "4     18   2.020202\n",
            "3     16   1.795735\n",
            "8      7   0.785634\n",
            "5      5   0.561167\n",
            "######################################\n"
          ]
        },
        {
          "output_type": "display_data",
          "data": {
            "text/plain": [
              "<Figure size 640x480 with 1 Axes>"
            ],
            "image/png": "[encoded data removed]"
          },
          "metadata": {}
        },
        {
          "output_type": "stream",
          "name": "stdout",
          "text": [
            "   parch      Ratio\n",
            "0    678  76.094276\n",
            "1    118  13.243547\n",
            "2     80   8.978676\n",
            "5      5   0.561167\n",
            "3      5   0.561167\n",
            "4      4   0.448934\n",
            "6      1   0.112233\n",
            "######################################\n"
          ]
        },
        {
          "output_type": "display_data",
          "data": {
            "text/plain": [
              "<Figure size 640x480 with 1 Axes>"
            ],
            "image/png": "[encoded data removed]"
          },
          "metadata": {}
        }
      ]
    },
    {
      "cell_type": "code",
      "source": [
        "def cat_summary(dataframe, col_name, plot = False):\n",
        "  if dataframe[col_name].dtypes == \"bool\":\n",
        "    dataframe[col_name] = dataframe[col_name].astype(int)\n",
        "\n",
        "    print(pd.DataFrame({col_name: dataframe[col_name].value_counts(),\n",
        "                        \"Ratio\": 100 * dataframe[col_name].value_counts() / len(dataframe)}))\n",
        "    print(\"######################################\")\n",
        "\n",
        "    if plot:\n",
        "      sns.countplot(x=dataframe[col_name],data = dataframe)\n",
        "      plt.show(block=True)\n",
        "  else:\n",
        "    print(pd.DataFrame({col_name: dataframe[col_name].value_counts(),\n",
        "                        \"Ratio\": 100 * dataframe[col_name].value_counts() / len(dataframe)}))\n",
        "    print(\"######################################\")\n",
        "    if plot:\n",
        "      sns.countplot(x=dataframe[col_name],data = dataframe)\n",
        "      plt.show(block=True)"
      ],
      "metadata": {
        "id": "KMhSlQUvqP2K"
      },
      "execution_count": 38,
      "outputs": []
    },
    {
      "cell_type": "code",
      "source": [
        "cat_summary(df, \"adult_male\", plot=True)"
      ],
      "metadata": {
        "colab": {
          "base_uri": "https://localhost:8080/",
          "height": 519
        },
        "id": "aoFsIIg3stOD",
        "outputId": "ae534d40-97ea-4048-e1e0-a0929643781d"
      },
      "execution_count": 39,
      "outputs": [
        {
          "output_type": "stream",
          "name": "stdout",
          "text": [
            "   adult_male     Ratio\n",
            "1         537  60.26936\n",
            "0         354  39.73064\n",
            "######################################\n"
          ]
        },
        {
          "output_type": "display_data",
          "data": {
            "text/plain": [
              "<Figure size 640x480 with 1 Axes>"
            ],
            "image/png": "[encoded data removed]"
          },
          "metadata": {}
        }
      ]
    },
    {
      "cell_type": "code",
      "source": [
        "df[[\"age\",\"fare\"]].describe().T"
      ],
      "metadata": {
        "colab": {
          "base_uri": "https://localhost:8080/",
          "height": 112
        },
        "id": "LOPosm8xs6rV",
        "outputId": "2f80392c-a504-46f3-e02b-bb1b5a53880d"
      },
      "execution_count": 40,
      "outputs": [
        {
          "output_type": "execute_result",
          "data": {
            "text/plain": [
              "      count       mean        std   min      25%      50%   75%       max\n",
              "age   714.0  29.699118  14.526497  0.42  20.1250  28.0000  38.0   80.0000\n",
              "fare  891.0  32.204208  49.693429  0.00   7.9104  14.4542  31.0  512.3292"
            ],
            "text/html": [
              "\n",
              "  <div id=\"df-e726dfa1-70f8-4400-9c5b-35fb9bb77375\" class=\"colab-df-container\">\n",
              "    <div>\n",
              "<style scoped>\n",
              "    .dataframe tbody tr th:only-of-type {\n",
              "        vertical-align: middle;\n",
              "    }\n",
              "\n",
              "    .dataframe tbody tr th {\n",
              "        vertical-align: top;\n",
              "    }\n",
              "\n",
              "    .dataframe thead th {\n",
              "        text-align: right;\n",
              "    }\n",
              "</style>\n",
              "<table border=\"1\" class=\"dataframe\">\n",
              "  <thead>\n",
              "    <tr style=\"text-align: right;\">\n",
              "      <th></th>\n",
              "      <th>count</th>\n",
              "      <th>mean</th>\n",
              "      <th>std</th>\n",
              "      <th>min</th>\n",
              "      <th>25%</th>\n",
              "      <th>50%</th>\n",
              "      <th>75%</th>\n",
              "      <th>max</th>\n",
              "    </tr>\n",
              "  </thead>\n",
              "  <tbody>\n",
              "    <tr>\n",
              "      <th>age</th>\n",
              "      <td>714.0</td>\n",
              "      <td>29.699118</td>\n",
              "      <td>14.526497</td>\n",
              "      <td>0.42</td>\n",
              "      <td>20.1250</td>\n",
              "      <td>28.0000</td>\n",
              "      <td>38.0</td>\n",
              "      <td>80.0000</td>\n",
              "    </tr>\n",
              "    <tr>\n",
              "      <th>fare</th>\n",
              "      <td>891.0</td>\n",
              "      <td>32.204208</td>\n",
              "      <td>49.693429</td>\n",
              "      <td>0.00</td>\n",
              "      <td>7.9104</td>\n",
              "      <td>14.4542</td>\n",
              "      <td>31.0</td>\n",
              "      <td>512.3292</td>\n",
              "    </tr>\n",
              "  </tbody>\n",
              "</table>\n",
              "</div>\n",
              "    <div class=\"colab-df-buttons\">\n",
              "\n",
              "  <div class=\"colab-df-container\">\n",
              "    <button class=\"colab-df-convert\" onclick=\"convertToInteractive('df-e726dfa1-70f8-4400-9c5b-35fb9bb77375')\"\n",
              "            title=\"Convert this dataframe to an interactive table.\"\n",
              "            style=\"display:none;\">\n",
              "\n",
              "  <svg xmlns=\"http://www.w3.org/2000/svg\" height=\"24px\" viewBox=\"0 -960 960 960\">\n",
              "    <path d=\"M120-120v-720h720v720H120Zm60-500h600v-160H180v160Zm220 220h160v-160H400v160Zm0 220h160v-160H400v160ZM180-400h160v-160H180v160Zm440 0h160v-160H620v160ZM180-180h160v-160H180v160Zm440 0h160v-160H620v160Z\"/>\n",
              "  </svg>\n",
              "    </button>\n",
              "\n",
              "  <style>\n",
              "    .colab-df-container {\n",
              "      display:flex;\n",
              "      gap: 12px;\n",
              "    }\n",
              "\n",
              "    .colab-df-convert {\n",
              "      background-color: #E8F0FE;\n",
              "      border: none;\n",
              "      border-radius: 50%;\n",
              "      cursor: pointer;\n",
              "      display: none;\n",
              "      fill: #1967D2;\n",
              "      height: 32px;\n",
              "      padding: 0 0 0 0;\n",
              "      width: 32px;\n",
              "    }\n",
              "\n",
              "    .colab-df-convert:hover {\n",
              "      background-color: #E2EBFA;\n",
              "      box-shadow: 0px 1px 2px rgba(60, 64, 67, 0.3), 0px 1px 3px 1px rgba(60, 64, 67, 0.15);\n",
              "      fill: #174EA6;\n",
              "    }\n",
              "\n",
              "    .colab-df-buttons div {\n",
              "      margin-bottom: 4px;\n",
              "    }\n",
              "\n",
              "    [theme=dark] .colab-df-convert {\n",
              "      background-color: #3B4455;\n",
              "      fill: #D2E3FC;\n",
              "    }\n",
              "\n",
              "    [theme=dark] .colab-df-convert:hover {\n",
              "      background-color: #434B5C;\n",
              "      box-shadow: 0px 1px 3px 1px rgba(0, 0, 0, 0.15);\n",
              "      filter: drop-shadow(0px 1px 2px rgba(0, 0, 0, 0.3));\n",
              "      fill: #FFFFFF;\n",
              "    }\n",
              "  </style>\n",
              "\n",
              "    <script>\n",
              "      const buttonEl =\n",
              "        document.querySelector('#df-e726dfa1-70f8-4400-9c5b-35fb9bb77375 button.colab-df-convert');\n",
              "      buttonEl.style.display =\n",
              "        google.colab.kernel.accessAllowed ? 'block' : 'none';\n",
              "\n",
              "      async function convertToInteractive(key) {\n",
              "        const element = document.querySelector('#df-e726dfa1-70f8-4400-9c5b-35fb9bb77375');\n",
              "        const dataTable =\n",
              "          await google.colab.kernel.invokeFunction('convertToInteractive',\n",
              "                                                    [key], {});\n",
              "        if (!dataTable) return;\n",
              "\n",
              "        const docLinkHtml = 'Like what you see? Visit the ' +\n",
              "          '<a target=\"_blank\" href=https://colab.research.google.com/notebooks/data_table.ipynb>data table notebook</a>'\n",
              "          + ' to learn more about interactive tables.';\n",
              "        element.innerHTML = '';\n",
              "        dataTable['output_type'] = 'display_data';\n",
              "        await google.colab.output.renderOutput(dataTable, element);\n",
              "        const docLink = document.createElement('div');\n",
              "        docLink.innerHTML = docLinkHtml;\n",
              "        element.appendChild(docLink);\n",
              "      }\n",
              "    </script>\n",
              "  </div>\n",
              "\n",
              "\n",
              "<div id=\"df-ee81f127-6114-489e-939b-35ba0756017a\">\n",
              "  <button class=\"colab-df-quickchart\" onclick=\"quickchart('df-ee81f127-6114-489e-939b-35ba0756017a')\"\n",
              "            title=\"Suggest charts.\"\n",
              "            style=\"display:none;\">\n",
              "\n",
              "<svg xmlns=\"http://www.w3.org/2000/svg\" height=\"24px\"viewBox=\"0 0 24 24\"\n",
              "     width=\"24px\">\n",
              "    <g>\n",
              "        <path d=\"M19 3H5c-1.1 0-2 .9-2 2v14c0 1.1.9 2 2 2h14c1.1 0 2-.9 2-2V5c0-1.1-.9-2-2-2zM9 17H7v-7h2v7zm4 0h-2V7h2v10zm4 0h-2v-4h2v4z\"/>\n",
              "    </g>\n",
              "</svg>\n",
              "  </button>\n",
              "\n",
              "<style>\n",
              "  .colab-df-quickchart {\n",
              "      --bg-color: #E8F0FE;\n",
              "      --fill-color: #1967D2;\n",
              "      --hover-bg-color: #E2EBFA;\n",
              "      --hover-fill-color: #174EA6;\n",
              "      --disabled-fill-color: #AAA;\n",
              "      --disabled-bg-color: #DDD;\n",
              "  }\n",
              "\n",
              "  [theme=dark] .colab-df-quickchart {\n",
              "      --bg-color: #3B4455;\n",
              "      --fill-color: #D2E3FC;\n",
              "      --hover-bg-color: #434B5C;\n",
              "      --hover-fill-color: #FFFFFF;\n",
              "      --disabled-bg-color: #3B4455;\n",
              "      --disabled-fill-color: #666;\n",
              "  }\n",
              "\n",
              "  .colab-df-quickchart {\n",
              "    background-color: var(--bg-color);\n",
              "    border: none;\n",
              "    border-radius: 50%;\n",
              "    cursor: pointer;\n",
              "    display: none;\n",
              "    fill: var(--fill-color);\n",
              "    height: 32px;\n",
              "    padding: 0;\n",
              "    width: 32px;\n",
              "  }\n",
              "\n",
              "  .colab-df-quickchart:hover {\n",
              "    background-color: var(--hover-bg-color);\n",
              "    box-shadow: 0 1px 2px rgba(60, 64, 67, 0.3), 0 1px 3px 1px rgba(60, 64, 67, 0.15);\n",
              "    fill: var(--button-hover-fill-color);\n",
              "  }\n",
              "\n",
              "  .colab-df-quickchart-complete:disabled,\n",
              "  .colab-df-quickchart-complete:disabled:hover {\n",
              "    background-color: var(--disabled-bg-color);\n",
              "    fill: var(--disabled-fill-color);\n",
              "    box-shadow: none;\n",
              "  }\n",
              "\n",
              "  .colab-df-spinner {\n",
              "    border: 2px solid var(--fill-color);\n",
              "    border-color: transparent;\n",
              "    border-bottom-color: var(--fill-color);\n",
              "    animation:\n",
              "      spin 1s steps(1) infinite;\n",
              "  }\n",
              "\n",
              "  @keyframes spin {\n",
              "    0% {\n",
              "      border-color: transparent;\n",
              "      border-bottom-color: var(--fill-color);\n",
              "      border-left-color: var(--fill-color);\n",
              "    }\n",
              "    20% {\n",
              "      border-color: transparent;\n",
              "      border-left-color: var(--fill-color);\n",
              "      border-top-color: var(--fill-color);\n",
              "    }\n",
              "    30% {\n",
              "      border-color: transparent;\n",
              "      border-left-color: var(--fill-color);\n",
              "      border-top-color: var(--fill-color);\n",
              "      border-right-color: var(--fill-color);\n",
              "    }\n",
              "    40% {\n",
              "      border-color: transparent;\n",
              "      border-right-color: var(--fill-color);\n",
              "      border-top-color: var(--fill-color);\n",
              "    }\n",
              "    60% {\n",
              "      border-color: transparent;\n",
              "      border-right-color: var(--fill-color);\n",
              "    }\n",
              "    80% {\n",
              "      border-color: transparent;\n",
              "      border-right-color: var(--fill-color);\n",
              "      border-bottom-color: var(--fill-color);\n",
              "    }\n",
              "    90% {\n",
              "      border-color: transparent;\n",
              "      border-bottom-color: var(--fill-color);\n",
              "    }\n",
              "  }\n",
              "</style>\n",
              "\n",
              "  <script>\n",
              "    async function quickchart(key) {\n",
              "      const quickchartButtonEl =\n",
              "        document.querySelector('#' + key + ' button');\n",
              "      quickchartButtonEl.disabled = true;  // To prevent multiple clicks.\n",
              "      quickchartButtonEl.classList.add('colab-df-spinner');\n",
              "      try {\n",
              "        const charts = await google.colab.kernel.invokeFunction(\n",
              "            'suggestCharts', [key], {});\n",
              "      } catch (error) {\n",
              "        console.error('Error during call to suggestCharts:', error);\n",
              "      }\n",
              "      quickchartButtonEl.classList.remove('colab-df-spinner');\n",
              "      quickchartButtonEl.classList.add('colab-df-quickchart-complete');\n",
              "    }\n",
              "    (() => {\n",
              "      let quickchartButtonEl =\n",
              "        document.querySelector('#df-ee81f127-6114-489e-939b-35ba0756017a button');\n",
              "      quickchartButtonEl.style.display =\n",
              "        google.colab.kernel.accessAllowed ? 'block' : 'none';\n",
              "    })();\n",
              "  </script>\n",
              "</div>\n",
              "    </div>\n",
              "  </div>\n"
            ]
          },
          "metadata": {},
          "execution_count": 40
        }
      ]
    },
    {
      "cell_type": "code",
      "source": [
        "num_cols = [col for col in df.columns if df[col].dtypes in [\"int\",\"float\"]]"
      ],
      "metadata": {
        "id": "YTInum_T3fWG"
      },
      "execution_count": 41,
      "outputs": []
    },
    {
      "cell_type": "code",
      "source": [
        "num_cols = [col for col in df.columns if col not in cat_cols]"
      ],
      "metadata": {
        "id": "4oFQxhJz3xj_"
      },
      "execution_count": 42,
      "outputs": []
    },
    {
      "cell_type": "code",
      "source": [
        "num_cols"
      ],
      "metadata": {
        "colab": {
          "base_uri": "https://localhost:8080/"
        },
        "id": "2VamqqlF4CSe",
        "outputId": "f4742e6a-be69-48c7-9acc-62e74d56fbbe"
      },
      "execution_count": 43,
      "outputs": [
        {
          "output_type": "execute_result",
          "data": {
            "text/plain": [
              "['age', 'fare']"
            ]
          },
          "metadata": {},
          "execution_count": 43
        }
      ]
    },
    {
      "cell_type": "code",
      "source": [
        "def num_summary(dataframe, numerical_col):\n",
        "  quantiles = [0.05, 0.1, 0.2, 0.3, 0.4, 0.5, 0.6, 0.7, 0.8, 0.9, 0.95]\n",
        "  print(dataframe[numerical_col].describe(quantiles).T)"
      ],
      "metadata": {
        "id": "KHh4XsJC4DTo"
      },
      "execution_count": 44,
      "outputs": []
    },
    {
      "cell_type": "code",
      "source": [
        "num_summary(df, \"age\")"
      ],
      "metadata": {
        "colab": {
          "base_uri": "https://localhost:8080/"
        },
        "id": "n-OPeNCg41lW",
        "outputId": "eb98961a-7a90-48ab-cb31-fe155a2335d0"
      },
      "execution_count": 45,
      "outputs": [
        {
          "output_type": "stream",
          "name": "stdout",
          "text": [
            "count    714.000000\n",
            "mean      29.699118\n",
            "std       14.526497\n",
            "min        0.420000\n",
            "5%         4.000000\n",
            "10%       14.000000\n",
            "20%       19.000000\n",
            "30%       22.000000\n",
            "40%       25.000000\n",
            "50%       28.000000\n",
            "60%       31.800000\n",
            "70%       36.000000\n",
            "80%       41.000000\n",
            "90%       50.000000\n",
            "95%       56.000000\n",
            "max       80.000000\n",
            "Name: age, dtype: float64\n"
          ]
        }
      ]
    },
    {
      "cell_type": "code",
      "source": [
        "for col in num_cols:\n",
        "  num_summary(df, col)"
      ],
      "metadata": {
        "colab": {
          "base_uri": "https://localhost:8080/"
        },
        "id": "JUDrijTc45zC",
        "outputId": "80367015-6cb9-4dce-8a78-73aa0e493c33"
      },
      "execution_count": 46,
      "outputs": [
        {
          "output_type": "stream",
          "name": "stdout",
          "text": [
            "count    714.000000\n",
            "mean      29.699118\n",
            "std       14.526497\n",
            "min        0.420000\n",
            "5%         4.000000\n",
            "10%       14.000000\n",
            "20%       19.000000\n",
            "30%       22.000000\n",
            "40%       25.000000\n",
            "50%       28.000000\n",
            "60%       31.800000\n",
            "70%       36.000000\n",
            "80%       41.000000\n",
            "90%       50.000000\n",
            "95%       56.000000\n",
            "max       80.000000\n",
            "Name: age, dtype: float64\n",
            "count    891.000000\n",
            "mean      32.204208\n",
            "std       49.693429\n",
            "min        0.000000\n",
            "5%         7.225000\n",
            "10%        7.550000\n",
            "20%        7.854200\n",
            "30%        8.050000\n",
            "40%       10.500000\n",
            "50%       14.454200\n",
            "60%       21.679200\n",
            "70%       27.000000\n",
            "80%       39.687500\n",
            "90%       77.958300\n",
            "95%      112.079150\n",
            "max      512.329200\n",
            "Name: fare, dtype: float64\n"
          ]
        }
      ]
    },
    {
      "cell_type": "code",
      "source": [
        "def num_summary(dataframe, numerical_col, plot = False):\n",
        "  quantiles = [0.05, 0.1, 0.2, 0.3, 0.4, 0.5, 0.6, 0.7, 0.8, 0.9, 0.95]\n",
        "  print(dataframe[numerical_col].describe(quantiles).T)\n",
        "  if plot:\n",
        "    dataframe[numerical_col].hist()\n",
        "    plt.xlabel(numerical_col)\n",
        "    plt.title(numerical_col)\n",
        "    plt.show(block=True)"
      ],
      "metadata": {
        "id": "arggblhl5EzL"
      },
      "execution_count": 47,
      "outputs": []
    },
    {
      "cell_type": "code",
      "source": [
        "num_summary(df,\"age\", plot=True)"
      ],
      "metadata": {
        "colab": {
          "base_uri": "https://localhost:8080/",
          "height": 767
        },
        "id": "aOOFroep5e8w",
        "outputId": "e1057269-5294-4565-ce09-b8d603bcee27"
      },
      "execution_count": 48,
      "outputs": [
        {
          "output_type": "stream",
          "name": "stdout",
          "text": [
            "count    714.000000\n",
            "mean      29.699118\n",
            "std       14.526497\n",
            "min        0.420000\n",
            "5%         4.000000\n",
            "10%       14.000000\n",
            "20%       19.000000\n",
            "30%       22.000000\n",
            "40%       25.000000\n",
            "50%       28.000000\n",
            "60%       31.800000\n",
            "70%       36.000000\n",
            "80%       41.000000\n",
            "90%       50.000000\n",
            "95%       56.000000\n",
            "max       80.000000\n",
            "Name: age, dtype: float64\n"
          ]
        },
        {
          "output_type": "display_data",
          "data": {
            "text/plain": [
              "<Figure size 640x480 with 1 Axes>"
            ],
            "image/png": "[encoded data removed]"
          },
          "metadata": {}
        }
      ]
    },
    {
      "cell_type": "code",
      "source": [
        "for col in num_cols:\n",
        "  num_summary(df,col,plot=True)"
      ],
      "metadata": {
        "colab": {
          "base_uri": "https://localhost:8080/",
          "height": 1000
        },
        "id": "dHEtZOkC5j68",
        "outputId": "2e905cd3-e6af-49fc-e28d-21c56cda76cd"
      },
      "execution_count": 49,
      "outputs": [
        {
          "output_type": "stream",
          "name": "stdout",
          "text": [
            "count    714.000000\n",
            "mean      29.699118\n",
            "std       14.526497\n",
            "min        0.420000\n",
            "5%         4.000000\n",
            "10%       14.000000\n",
            "20%       19.000000\n",
            "30%       22.000000\n",
            "40%       25.000000\n",
            "50%       28.000000\n",
            "60%       31.800000\n",
            "70%       36.000000\n",
            "80%       41.000000\n",
            "90%       50.000000\n",
            "95%       56.000000\n",
            "max       80.000000\n",
            "Name: age, dtype: float64\n"
          ]
        },
        {
          "output_type": "display_data",
          "data": {
            "text/plain": [
              "<Figure size 640x480 with 1 Axes>"
            ],
            "image/png": "[encoded data removed]"
          },
          "metadata": {}
        },
        {
          "output_type": "stream",
          "name": "stdout",
          "text": [
            "count    891.000000\n",
            "mean      32.204208\n",
            "std       49.693429\n",
            "min        0.000000\n",
            "5%         7.225000\n",
            "10%        7.550000\n",
            "20%        7.854200\n",
            "30%        8.050000\n",
            "40%       10.500000\n",
            "50%       14.454200\n",
            "60%       21.679200\n",
            "70%       27.000000\n",
            "80%       39.687500\n",
            "90%       77.958300\n",
            "95%      112.079150\n",
            "max      512.329200\n",
            "Name: fare, dtype: float64\n"
          ]
        },
        {
          "output_type": "display_data",
          "data": {
            "text/plain": [
              "<Figure size 640x480 with 1 Axes>"
            ],
            "image/png": "[encoded data removed]"
          },
          "metadata": {}
        }
      ]
    },
    {
      "cell_type": "markdown",
      "source": [
        "# Capturing Variables and Generalizing Operations"
      ],
      "metadata": {
        "id": "4hThq40x50k7"
      }
    },
    {
      "cell_type": "code",
      "source": [
        "df.info()"
      ],
      "metadata": {
        "id": "SKSp6qUl5sUN",
        "colab": {
          "base_uri": "https://localhost:8080/"
        },
        "outputId": "2e919f0c-6cc9-4056-eb6b-d6eb3529a972"
      },
      "execution_count": 50,
      "outputs": [
        {
          "output_type": "stream",
          "name": "stdout",
          "text": [
            "<class 'pandas.core.frame.DataFrame'>\n",
            "RangeIndex: 891 entries, 0 to 890\n",
            "Data columns (total 15 columns):\n",
            " #   Column       Non-Null Count  Dtype   \n",
            "---  ------       --------------  -----   \n",
            " 0   survived     891 non-null    int64   \n",
            " 1   pclass       891 non-null    int64   \n",
            " 2   sex          891 non-null    object  \n",
            " 3   age          714 non-null    float64 \n",
            " 4   sibsp        891 non-null    int64   \n",
            " 5   parch        891 non-null    int64   \n",
            " 6   fare         891 non-null    float64 \n",
            " 7   embarked     889 non-null    object  \n",
            " 8   class        891 non-null    category\n",
            " 9   who          891 non-null    object  \n",
            " 10  adult_male   891 non-null    int64   \n",
            " 11  deck         203 non-null    category\n",
            " 12  embark_town  889 non-null    object  \n",
            " 13  alive        891 non-null    object  \n",
            " 14  alone        891 non-null    int64   \n",
            "dtypes: category(2), float64(2), int64(6), object(5)\n",
            "memory usage: 92.8+ KB\n"
          ]
        }
      ]
    },
    {
      "cell_type": "code",
      "source": [
        "def grab_col_names(dataframe, cat_th=10, car_th=20):\n",
        "  \"\"\"\n",
        "  docstring oluşturma\n",
        "  Veri setindeki kategorik, numerik ve kategorik fakat kardinal değişkenlerin isimlerini verir...\n",
        "\n",
        "  Parameters\n",
        "  --------\n",
        "  dataframe: dataframe\n",
        "    değişken isimleri alınmak istenen dataframe'dir\n",
        "  cat_th: int, float\n",
        "    numerik fakat ketogorik olan değişkenler için sınıf eşik değeri\n",
        "  car_th: int, float\n",
        "    kategorik fakat kardinal değişkenler için sınıf eşik değeri\n",
        "\n",
        "  Returns\n",
        "  -----\n",
        "  cat_cols: list\n",
        "    Kategorik değişken listesi\n",
        "  num_cols: list\n",
        "    Numerik değişken listesi\n",
        "  cat_but_car: list\n",
        "    Kategorik görünümlü kardinal değişken listesi\n",
        "\n",
        "  NOTES\n",
        "  --------\n",
        "  cat_cols + num_cols + cat_but_car = toplam değişken sayısı\n",
        "    num_but_cat cat_cols'un içerisinde.\n",
        "  \"\"\"\n",
        "  cat_cols = [col for col in df.columns if str(df[col].dtypes) in [\"category\",\"object\",\"bool\"]]\n",
        "\n",
        "  num_but_cat = [col for col in df.columns if df[col].nunique() < 10 and df[col].dtypes in [\"int\",\"float\"]]\n",
        "\n",
        "  cat_but_car = [col for col in df.columns if\n",
        "                 df[col].nunique() > 20 and str(df[col].dtypes) in [\"category\", \"object\"]]\n",
        "\n",
        "  cat_cols = cat_cols + num_but_cat\n",
        "  cat_cols = [col for col in cat_cols if col not in cat_but_car]\n",
        "\n",
        "  print(f\"Observations: {dataframe.shape[0]}\")\n",
        "  print(f\"Variables: {dataframe.shape[1]}\")\n",
        "  print(f\"cat_cols: {len(cat_cols)}\")\n",
        "  print(f\"num_cols: {len(num_cols)}\")\n",
        "  print(f\"cat_but_car: {len(cat_but_car)}\")\n",
        "  print(f\"num_but_cat: {len(num_but_cat)}\")\n",
        "\n",
        "  return cat_cols, num_cols, cat_but_car"
      ],
      "metadata": {
        "id": "6sn873_TpD8G"
      },
      "execution_count": 51,
      "outputs": []
    },
    {
      "cell_type": "code",
      "source": [
        "help(grab_col_names)"
      ],
      "metadata": {
        "colab": {
          "base_uri": "https://localhost:8080/"
        },
        "id": "foOtbBJgrE-h",
        "outputId": "39f20b2d-858a-4f1c-d1ff-d7a543c1c93a"
      },
      "execution_count": 52,
      "outputs": [
        {
          "output_type": "stream",
          "name": "stdout",
          "text": [
            "Help on function grab_col_names in module __main__:\n",
            "\n",
            "grab_col_names(dataframe, cat_th=10, car_th=20)\n",
            "    docstring oluşturma\n",
            "    Veri setindeki kategorik, numerik ve kategorik fakat kardinal değişkenlerin isimlerini verir...\n",
            "    \n",
            "    Parameters\n",
            "    --------\n",
            "    dataframe: dataframe\n",
            "      değişken isimleri alınmak istenen dataframe'dir\n",
            "    cat_th: int, float\n",
            "      numerik fakat ketogorik olan değişkenler için sınıf eşik değeri\n",
            "    car_th: int, float\n",
            "      kategorik fakat kardinal değişkenler için sınıf eşik değeri\n",
            "    \n",
            "    Returns\n",
            "    -----\n",
            "    cat_cols: list\n",
            "      Kategorik değişken listesi\n",
            "    num_cols: list\n",
            "      Numerik değişken listesi\n",
            "    cat_but_car: list\n",
            "      Kategorik görünümlü kardinal değişken listesi\n",
            "    \n",
            "    NOTES\n",
            "    --------\n",
            "    cat_cols + num_cols + cat_but_car = toplam değişken sayısı\n",
            "      num_but_cat cat_cols'un içerisinde.\n",
            "\n"
          ]
        }
      ]
    },
    {
      "cell_type": "code",
      "source": [
        "cat_cols, num_cols, cat_but_car = grab_col_names(df)"
      ],
      "metadata": {
        "colab": {
          "base_uri": "https://localhost:8080/"
        },
        "id": "4MRNc5DqrHaP",
        "outputId": "32137373-c1e8-4932-a822-b3ef5041153c"
      },
      "execution_count": 53,
      "outputs": [
        {
          "output_type": "stream",
          "name": "stdout",
          "text": [
            "Observations: 891\n",
            "Variables: 15\n",
            "cat_cols: 13\n",
            "num_cols: 2\n",
            "cat_but_car: 0\n",
            "num_but_cat: 6\n"
          ]
        }
      ]
    },
    {
      "cell_type": "code",
      "source": [
        "cat_cols"
      ],
      "metadata": {
        "colab": {
          "base_uri": "https://localhost:8080/"
        },
        "id": "uupL0LtXumFg",
        "outputId": "f34aa2a3-8b74-41ef-cda3-e88767b624e8"
      },
      "execution_count": 54,
      "outputs": [
        {
          "output_type": "execute_result",
          "data": {
            "text/plain": [
              "['sex',\n",
              " 'embarked',\n",
              " 'class',\n",
              " 'who',\n",
              " 'deck',\n",
              " 'embark_town',\n",
              " 'alive',\n",
              " 'survived',\n",
              " 'pclass',\n",
              " 'sibsp',\n",
              " 'parch',\n",
              " 'adult_male',\n",
              " 'alone']"
            ]
          },
          "metadata": {},
          "execution_count": 54
        }
      ]
    },
    {
      "cell_type": "code",
      "source": [
        "num_cols"
      ],
      "metadata": {
        "colab": {
          "base_uri": "https://localhost:8080/"
        },
        "id": "0dIVKBPFvFdy",
        "outputId": "7bc8c3f0-cddf-4b08-89ae-c392c4e68b33"
      },
      "execution_count": 55,
      "outputs": [
        {
          "output_type": "execute_result",
          "data": {
            "text/plain": [
              "['age', 'fare']"
            ]
          },
          "metadata": {},
          "execution_count": 55
        }
      ]
    },
    {
      "cell_type": "code",
      "source": [
        "cat_but_car"
      ],
      "metadata": {
        "colab": {
          "base_uri": "https://localhost:8080/"
        },
        "id": "Ncu2lsJCvG7s",
        "outputId": "7b424e33-fc4f-4907-cbdc-cd8eb6157895"
      },
      "execution_count": 56,
      "outputs": [
        {
          "output_type": "execute_result",
          "data": {
            "text/plain": [
              "[]"
            ]
          },
          "metadata": {},
          "execution_count": 56
        }
      ]
    },
    {
      "cell_type": "code",
      "source": [
        "def cat_summary(dataframe, col_name):\n",
        "  print(pd.DataFrame({col_name: dataframe[col_name].value_counts(),\n",
        "                      \"Ratio\": 100 * dataframe[col_name].value_counts() / len(dataframe)}))\n",
        "  print(\"######################################\")"
      ],
      "metadata": {
        "id": "Gg-T6K9qvIPQ"
      },
      "execution_count": 57,
      "outputs": []
    },
    {
      "cell_type": "code",
      "source": [
        "cat_summary(df,\"sex\")"
      ],
      "metadata": {
        "colab": {
          "base_uri": "https://localhost:8080/"
        },
        "id": "jJg6hvkavfWF",
        "outputId": "d47c82ed-f14e-4a03-9037-ffe3a8a54a16"
      },
      "execution_count": 58,
      "outputs": [
        {
          "output_type": "stream",
          "name": "stdout",
          "text": [
            "        sex      Ratio\n",
            "male    577  64.758698\n",
            "female  314  35.241302\n",
            "######################################\n"
          ]
        }
      ]
    },
    {
      "cell_type": "code",
      "source": [
        "for col in cat_cols:\n",
        "  cat_summary(df,col)"
      ],
      "metadata": {
        "colab": {
          "base_uri": "https://localhost:8080/"
        },
        "id": "drwPDyIBvitK",
        "outputId": "02da4422-e345-4a93-e502-e79a3a6d921b"
      },
      "execution_count": 59,
      "outputs": [
        {
          "output_type": "stream",
          "name": "stdout",
          "text": [
            "        sex      Ratio\n",
            "male    577  64.758698\n",
            "female  314  35.241302\n",
            "######################################\n",
            "   embarked      Ratio\n",
            "S       644  72.278339\n",
            "C       168  18.855219\n",
            "Q        77   8.641975\n",
            "######################################\n",
            "        class      Ratio\n",
            "Third     491  55.106622\n",
            "First     216  24.242424\n",
            "Second    184  20.650954\n",
            "######################################\n",
            "       who      Ratio\n",
            "man    537  60.269360\n",
            "woman  271  30.415264\n",
            "child   83   9.315376\n",
            "######################################\n",
            "   deck     Ratio\n",
            "C    59  6.621773\n",
            "B    47  5.274972\n",
            "D    33  3.703704\n",
            "E    32  3.591470\n",
            "A    15  1.683502\n",
            "F    13  1.459035\n",
            "G     4  0.448934\n",
            "######################################\n",
            "             embark_town      Ratio\n",
            "Southampton          644  72.278339\n",
            "Cherbourg            168  18.855219\n",
            "Queenstown            77   8.641975\n",
            "######################################\n",
            "     alive      Ratio\n",
            "no     549  61.616162\n",
            "yes    342  38.383838\n",
            "######################################\n",
            "   survived      Ratio\n",
            "0       549  61.616162\n",
            "1       342  38.383838\n",
            "######################################\n",
            "   pclass      Ratio\n",
            "3     491  55.106622\n",
            "1     216  24.242424\n",
            "2     184  20.650954\n",
            "######################################\n",
            "   sibsp      Ratio\n",
            "0    608  68.237935\n",
            "1    209  23.456790\n",
            "2     28   3.142536\n",
            "4     18   2.020202\n",
            "3     16   1.795735\n",
            "8      7   0.785634\n",
            "5      5   0.561167\n",
            "######################################\n",
            "   parch      Ratio\n",
            "0    678  76.094276\n",
            "1    118  13.243547\n",
            "2     80   8.978676\n",
            "5      5   0.561167\n",
            "3      5   0.561167\n",
            "4      4   0.448934\n",
            "6      1   0.112233\n",
            "######################################\n",
            "   adult_male     Ratio\n",
            "1         537  60.26936\n",
            "0         354  39.73064\n",
            "######################################\n",
            "   alone     Ratio\n",
            "1    537  60.26936\n",
            "0    354  39.73064\n",
            "######################################\n"
          ]
        }
      ]
    },
    {
      "cell_type": "code",
      "source": [
        "def num_summary(dataframe, numerical_col, plot = False):\n",
        "  quantiles = [0.05, 0.1, 0.2, 0.3, 0.4, 0.5, 0.6, 0.7, 0.8, 0.9, 0.95]\n",
        "  print(dataframe[numerical_col].describe(quantiles).T)\n",
        "  if plot:\n",
        "    dataframe[numerical_col].hist()\n",
        "    plt.xlabel(numerical_col)\n",
        "    plt.title(numerical_col)\n",
        "    plt.show(block=True)"
      ],
      "metadata": {
        "id": "GeVkIcPEvnWE"
      },
      "execution_count": 60,
      "outputs": []
    },
    {
      "cell_type": "code",
      "source": [
        "for col in num_cols:\n",
        "  num_summary(df, col, plot=True)"
      ],
      "metadata": {
        "colab": {
          "base_uri": "https://localhost:8080/",
          "height": 1000
        },
        "id": "rcHDJ1ocv15d",
        "outputId": "534b1808-f922-48c7-cf4e-9a351d1b14ba"
      },
      "execution_count": 61,
      "outputs": [
        {
          "output_type": "stream",
          "name": "stdout",
          "text": [
            "count    714.000000\n",
            "mean      29.699118\n",
            "std       14.526497\n",
            "min        0.420000\n",
            "5%         4.000000\n",
            "10%       14.000000\n",
            "20%       19.000000\n",
            "30%       22.000000\n",
            "40%       25.000000\n",
            "50%       28.000000\n",
            "60%       31.800000\n",
            "70%       36.000000\n",
            "80%       41.000000\n",
            "90%       50.000000\n",
            "95%       56.000000\n",
            "max       80.000000\n",
            "Name: age, dtype: float64\n"
          ]
        },
        {
          "output_type": "display_data",
          "data": {
            "text/plain": [
              "<Figure size 640x480 with 1 Axes>"
            ],
            "image/png": "[encoded data removed]"
          },
          "metadata": {}
        },
        {
          "output_type": "stream",
          "name": "stdout",
          "text": [
            "count    891.000000\n",
            "mean      32.204208\n",
            "std       49.693429\n",
            "min        0.000000\n",
            "5%         7.225000\n",
            "10%        7.550000\n",
            "20%        7.854200\n",
            "30%        8.050000\n",
            "40%       10.500000\n",
            "50%       14.454200\n",
            "60%       21.679200\n",
            "70%       27.000000\n",
            "80%       39.687500\n",
            "90%       77.958300\n",
            "95%      112.079150\n",
            "max      512.329200\n",
            "Name: fare, dtype: float64\n"
          ]
        },
        {
          "output_type": "display_data",
          "data": {
            "text/plain": [
              "<Figure size 640x480 with 1 Axes>"
            ],
            "image/png": "[encoded data removed]"
          },
          "metadata": {}
        }
      ]
    },
    {
      "cell_type": "code",
      "source": [
        "cat_cols"
      ],
      "metadata": {
        "colab": {
          "base_uri": "https://localhost:8080/"
        },
        "id": "g00ViIrfwWaD",
        "outputId": "ed9bf6f5-e803-4ea9-dfc3-54adeca76e4e"
      },
      "execution_count": null,
      "outputs": [
        {
          "output_type": "execute_result",
          "data": {
            "text/plain": [
              "['sex',\n",
              " 'embarked',\n",
              " 'class',\n",
              " 'who',\n",
              " 'deck',\n",
              " 'embark_town',\n",
              " 'alive',\n",
              " 'survived',\n",
              " 'pclass',\n",
              " 'sibsp',\n",
              " 'parch',\n",
              " 'adult_male',\n",
              " 'alone']"
            ]
          },
          "metadata": {},
          "execution_count": 66
        }
      ]
    },
    {
      "cell_type": "code",
      "source": [
        "def cat_summary(dataframe, col_name, plot = False):\n",
        "  print(pd.DataFrame({col_name: dataframe[col_name].value_counts(),\n",
        "                      \"Ratio\": 100 * dataframe[col_name].value_counts() / len(dataframe)}))\n",
        "  print(\"######################################\")\n",
        "\n",
        "  if plot:\n",
        "    sns.countplot(x=dataframe[col_name],data = dataframe)\n",
        "    plt.show(block=True)"
      ],
      "metadata": {
        "id": "egVl6NSSwfW6"
      },
      "execution_count": 62,
      "outputs": []
    },
    {
      "cell_type": "code",
      "source": [
        "for col in cat_cols:\n",
        "  cat_summary(df, col, plot=True)"
      ],
      "metadata": {
        "colab": {
          "base_uri": "https://localhost:8080/",
          "height": 1000
        },
        "id": "69gjaYAlw0QK",
        "outputId": "3a57506a-ebdf-4283-b517-1032691858db"
      },
      "execution_count": 63,
      "outputs": [
        {
          "output_type": "stream",
          "name": "stdout",
          "text": [
            "        sex      Ratio\n",
            "male    577  64.758698\n",
            "female  314  35.241302\n",
            "######################################\n"
          ]
        },
        {
          "output_type": "display_data",
          "data": {
            "text/plain": [
              "<Figure size 640x480 with 1 Axes>"
            ],
            "image/png": "[encoded data removed]"
          },
          "metadata": {}
        },
        {
          "output_type": "stream",
          "name": "stdout",
          "text": [
            "   embarked      Ratio\n",
            "S       644  72.278339\n",
            "C       168  18.855219\n",
            "Q        77   8.641975\n",
            "######################################\n"
          ]
        },
        {
          "output_type": "display_data",
          "data": {
            "text/plain": [
              "<Figure size 640x480 with 1 Axes>"
            ],
            "image/png": "[encoded data removed]"
          },
          "metadata": {}
        },
        {
          "output_type": "stream",
          "name": "stdout",
          "text": [
            "        class      Ratio\n",
            "Third     491  55.106622\n",
            "First     216  24.242424\n",
            "Second    184  20.650954\n",
            "######################################\n"
          ]
        },
        {
          "output_type": "display_data",
          "data": {
            "text/plain": [
              "<Figure size 640x480 with 1 Axes>"
            ],
            "image/png": "[encoded data removed]"
          },
          "metadata": {}
        },
        {
          "output_type": "stream",
          "name": "stdout",
          "text": [
            "       who      Ratio\n",
            "man    537  60.269360\n",
            "woman  271  30.415264\n",
            "child   83   9.315376\n",
            "######################################\n"
          ]
        },
        {
          "output_type": "display_data",
          "data": {
            "text/plain": [
              "<Figure size 640x480 with 1 Axes>"
            ],
            "image/png": "[encoded data removed]"
          },
          "metadata": {}
        },
        {
          "output_type": "stream",
          "name": "stdout",
          "text": [
            "   deck     Ratio\n",
            "C    59  6.621773\n",
            "B    47  5.274972\n",
            "D    33  3.703704\n",
            "E    32  3.591470\n",
            "A    15  1.683502\n",
            "F    13  1.459035\n",
            "G     4  0.448934\n",
            "######################################\n"
          ]
        },
        {
          "output_type": "display_data",
          "data": {
            "text/plain": [
              "<Figure size 640x480 with 1 Axes>"
            ],
            "image/png": "[encoded data removed]"
          },
          "metadata": {}
        },
        {
          "output_type": "stream",
          "name": "stdout",
          "text": [
            "             embark_town      Ratio\n",
            "Southampton          644  72.278339\n",
            "Cherbourg            168  18.855219\n",
            "Queenstown            77   8.641975\n",
            "######################################\n"
          ]
        },
        {
          "output_type": "display_data",
          "data": {
            "text/plain": [
              "<Figure size 640x480 with 1 Axes>"
            ],
            "image/png": "[encoded data removed]"
          },
          "metadata": {}
        },
        {
          "output_type": "stream",
          "name": "stdout",
          "text": [
            "     alive      Ratio\n",
            "no     549  61.616162\n",
            "yes    342  38.383838\n",
            "######################################\n"
          ]
        },
        {
          "output_type": "display_data",
          "data": {
            "text/plain": [
              "<Figure size 640x480 with 1 Axes>"
            ],
            "image/png": "[encoded data removed]"
          },
          "metadata": {}
        },
        {
          "output_type": "stream",
          "name": "stdout",
          "text": [
            "   survived      Ratio\n",
            "0       549  61.616162\n",
            "1       342  38.383838\n",
            "######################################\n"
          ]
        },
        {
          "output_type": "display_data",
          "data": {
            "text/plain": [
              "<Figure size 640x480 with 1 Axes>"
            ],
            "image/png": "[encoded data removed]"
          },
          "metadata": {}
        },
        {
          "output_type": "stream",
          "name": "stdout",
          "text": [
            "   pclass      Ratio\n",
            "3     491  55.106622\n",
            "1     216  24.242424\n",
            "2     184  20.650954\n",
            "######################################\n"
          ]
        },
        {
          "output_type": "display_data",
          "data": {
            "text/plain": [
              "<Figure size 640x480 with 1 Axes>"
            ],
            "image/png": "[encoded data removed]"
          },
          "metadata": {}
        },
        {
          "output_type": "stream",
          "name": "stdout",
          "text": [
            "   sibsp      Ratio\n",
            "0    608  68.237935\n",
            "1    209  23.456790\n",
            "2     28   3.142536\n",
            "4     18   2.020202\n",
            "3     16   1.795735\n",
            "8      7   0.785634\n",
            "5      5   0.561167\n",
            "######################################\n"
          ]
        },
        {
          "output_type": "display_data",
          "data": {
            "text/plain": [
              "<Figure size 640x480 with 1 Axes>"
            ],
            "image/png": "[encoded data removed]"
          },
          "metadata": {}
        },
        {
          "output_type": "stream",
          "name": "stdout",
          "text": [
            "   parch      Ratio\n",
            "0    678  76.094276\n",
            "1    118  13.243547\n",
            "2     80   8.978676\n",
            "5      5   0.561167\n",
            "3      5   0.561167\n",
            "4      4   0.448934\n",
            "6      1   0.112233\n",
            "######################################\n"
          ]
        },
        {
          "output_type": "display_data",
          "data": {
            "text/plain": [
              "<Figure size 640x480 with 1 Axes>"
            ],
            "image/png": "[encoded data removed]"
          },
          "metadata": {}
        },
        {
          "output_type": "stream",
          "name": "stdout",
          "text": [
            "   adult_male     Ratio\n",
            "1         537  60.26936\n",
            "0         354  39.73064\n",
            "######################################\n"
          ]
        },
        {
          "output_type": "display_data",
          "data": {
            "text/plain": [
              "<Figure size 640x480 with 1 Axes>"
            ],
            "image/png": "[encoded data removed]"
          },
          "metadata": {}
        },
        {
          "output_type": "stream",
          "name": "stdout",
          "text": [
            "   alone     Ratio\n",
            "1    537  60.26936\n",
            "0    354  39.73064\n",
            "######################################\n"
          ]
        },
        {
          "output_type": "display_data",
          "data": {
            "text/plain": [
              "<Figure size 640x480 with 1 Axes>"
            ],
            "image/png": "[encoded data removed]"
          },
          "metadata": {}
        }
      ]
    },
    {
      "cell_type": "code",
      "source": [
        "for col in num_cols:\n",
        "  num_summary(df, col, plot=True)"
      ],
      "metadata": {
        "colab": {
          "base_uri": "https://localhost:8080/",
          "height": 1000
        },
        "id": "R-NRREoBw71m",
        "outputId": "f981a806-713f-432b-985b-e33cf5d2b9a5"
      },
      "execution_count": 64,
      "outputs": [
        {
          "output_type": "stream",
          "name": "stdout",
          "text": [
            "count    714.000000\n",
            "mean      29.699118\n",
            "std       14.526497\n",
            "min        0.420000\n",
            "5%         4.000000\n",
            "10%       14.000000\n",
            "20%       19.000000\n",
            "30%       22.000000\n",
            "40%       25.000000\n",
            "50%       28.000000\n",
            "60%       31.800000\n",
            "70%       36.000000\n",
            "80%       41.000000\n",
            "90%       50.000000\n",
            "95%       56.000000\n",
            "max       80.000000\n",
            "Name: age, dtype: float64\n"
          ]
        },
        {
          "output_type": "display_data",
          "data": {
            "text/plain": [
              "<Figure size 640x480 with 1 Axes>"
            ],
            "image/png": "[encoded data removed]"
          },
          "metadata": {}
        },
        {
          "output_type": "stream",
          "name": "stdout",
          "text": [
            "count    891.000000\n",
            "mean      32.204208\n",
            "std       49.693429\n",
            "min        0.000000\n",
            "5%         7.225000\n",
            "10%        7.550000\n",
            "20%        7.854200\n",
            "30%        8.050000\n",
            "40%       10.500000\n",
            "50%       14.454200\n",
            "60%       21.679200\n",
            "70%       27.000000\n",
            "80%       39.687500\n",
            "90%       77.958300\n",
            "95%      112.079150\n",
            "max      512.329200\n",
            "Name: fare, dtype: float64\n"
          ]
        },
        {
          "output_type": "display_data",
          "data": {
            "text/plain": [
              "<Figure size 640x480 with 1 Axes>"
            ],
            "image/png": "[encoded data removed]"
          },
          "metadata": {}
        }
      ]
    },
    {
      "cell_type": "markdown",
      "source": [
        "# Analysis of Target Variable"
      ],
      "metadata": {
        "id": "8WSzTOzvxQJ5"
      }
    },
    {
      "cell_type": "code",
      "source": [
        "for col in df.columns:\n",
        "  if df[col].dtypes == \"bool\":\n",
        "    df[col] = df[col].astype(int)"
      ],
      "metadata": {
        "id": "gT__sK9HH0La"
      },
      "execution_count": 67,
      "outputs": []
    },
    {
      "cell_type": "code",
      "source": [
        "cat_cols, num_cols, cat_but_car = grab_col_names(df)"
      ],
      "metadata": {
        "colab": {
          "base_uri": "https://localhost:8080/"
        },
        "id": "FWYl30inIg1P",
        "outputId": "36c7df4a-a639-4ad4-8af1-137f8d7d319d"
      },
      "execution_count": 68,
      "outputs": [
        {
          "output_type": "stream",
          "name": "stdout",
          "text": [
            "Observations: 891\n",
            "Variables: 15\n",
            "cat_cols: 13\n",
            "num_cols: 2\n",
            "cat_but_car: 0\n",
            "num_but_cat: 6\n"
          ]
        }
      ]
    },
    {
      "cell_type": "code",
      "source": [
        "df.head()"
      ],
      "metadata": {
        "colab": {
          "base_uri": "https://localhost:8080/",
          "height": 206
        },
        "id": "jRvYD_4zIl9b",
        "outputId": "220e0bb4-6222-4bce-fd7e-a1d092189c9e"
      },
      "execution_count": 70,
      "outputs": [
        {
          "output_type": "execute_result",
          "data": {
            "text/plain": [
              "   survived  pclass     sex   age  sibsp  parch     fare embarked  class    who  adult_male deck  embark_town alive  alone\n",
              "0         0       3    male  22.0      1      0   7.2500        S  Third    man           1  NaN  Southampton    no      0\n",
              "1         1       1  female  38.0      1      0  71.2833        C  First  woman           0    C    Cherbourg   yes      0\n",
              "2         1       3  female  26.0      0      0   7.9250        S  Third  woman           0  NaN  Southampton   yes      1\n",
              "3         1       1  female  35.0      1      0  53.1000        S  First  woman           0    C  Southampton   yes      0\n",
              "4         0       3    male  35.0      0      0   8.0500        S  Third    man           1  NaN  Southampton    no      1"
            ],
            "text/html": [
              "\n",
              "  <div id=\"df-a8bea3b7-d5c6-44cd-8559-0d37ebb9b81c\" class=\"colab-df-container\">\n",
              "    <div>\n",
              "<style scoped>\n",
              "    .dataframe tbody tr th:only-of-type {\n",
              "        vertical-align: middle;\n",
              "    }\n",
              "\n",
              "    .dataframe tbody tr th {\n",
              "        vertical-align: top;\n",
              "    }\n",
              "\n",
              "    .dataframe thead th {\n",
              "        text-align: right;\n",
              "    }\n",
              "</style>\n",
              "<table border=\"1\" class=\"dataframe\">\n",
              "  <thead>\n",
              "    <tr style=\"text-align: right;\">\n",
              "      <th></th>\n",
              "      <th>survived</th>\n",
              "      <th>pclass</th>\n",
              "      <th>sex</th>\n",
              "      <th>age</th>\n",
              "      <th>sibsp</th>\n",
              "      <th>parch</th>\n",
              "      <th>fare</th>\n",
              "      <th>embarked</th>\n",
              "      <th>class</th>\n",
              "      <th>who</th>\n",
              "      <th>adult_male</th>\n",
              "      <th>deck</th>\n",
              "      <th>embark_town</th>\n",
              "      <th>alive</th>\n",
              "      <th>alone</th>\n",
              "    </tr>\n",
              "  </thead>\n",
              "  <tbody>\n",
              "    <tr>\n",
              "      <th>0</th>\n",
              "      <td>0</td>\n",
              "      <td>3</td>\n",
              "      <td>male</td>\n",
              "      <td>22.0</td>\n",
              "      <td>1</td>\n",
              "      <td>0</td>\n",
              "      <td>7.2500</td>\n",
              "      <td>S</td>\n",
              "      <td>Third</td>\n",
              "      <td>man</td>\n",
              "      <td>1</td>\n",
              "      <td>NaN</td>\n",
              "      <td>Southampton</td>\n",
              "      <td>no</td>\n",
              "      <td>0</td>\n",
              "    </tr>\n",
              "    <tr>\n",
              "      <th>1</th>\n",
              "      <td>1</td>\n",
              "      <td>1</td>\n",
              "      <td>female</td>\n",
              "      <td>38.0</td>\n",
              "      <td>1</td>\n",
              "      <td>0</td>\n",
              "      <td>71.2833</td>\n",
              "      <td>C</td>\n",
              "      <td>First</td>\n",
              "      <td>woman</td>\n",
              "      <td>0</td>\n",
              "      <td>C</td>\n",
              "      <td>Cherbourg</td>\n",
              "      <td>yes</td>\n",
              "      <td>0</td>\n",
              "    </tr>\n",
              "    <tr>\n",
              "      <th>2</th>\n",
              "      <td>1</td>\n",
              "      <td>3</td>\n",
              "      <td>female</td>\n",
              "      <td>26.0</td>\n",
              "      <td>0</td>\n",
              "      <td>0</td>\n",
              "      <td>7.9250</td>\n",
              "      <td>S</td>\n",
              "      <td>Third</td>\n",
              "      <td>woman</td>\n",
              "      <td>0</td>\n",
              "      <td>NaN</td>\n",
              "      <td>Southampton</td>\n",
              "      <td>yes</td>\n",
              "      <td>1</td>\n",
              "    </tr>\n",
              "    <tr>\n",
              "      <th>3</th>\n",
              "      <td>1</td>\n",
              "      <td>1</td>\n",
              "      <td>female</td>\n",
              "      <td>35.0</td>\n",
              "      <td>1</td>\n",
              "      <td>0</td>\n",
              "      <td>53.1000</td>\n",
              "      <td>S</td>\n",
              "      <td>First</td>\n",
              "      <td>woman</td>\n",
              "      <td>0</td>\n",
              "      <td>C</td>\n",
              "      <td>Southampton</td>\n",
              "      <td>yes</td>\n",
              "      <td>0</td>\n",
              "    </tr>\n",
              "    <tr>\n",
              "      <th>4</th>\n",
              "      <td>0</td>\n",
              "      <td>3</td>\n",
              "      <td>male</td>\n",
              "      <td>35.0</td>\n",
              "      <td>0</td>\n",
              "      <td>0</td>\n",
              "      <td>8.0500</td>\n",
              "      <td>S</td>\n",
              "      <td>Third</td>\n",
              "      <td>man</td>\n",
              "      <td>1</td>\n",
              "      <td>NaN</td>\n",
              "      <td>Southampton</td>\n",
              "      <td>no</td>\n",
              "      <td>1</td>\n",
              "    </tr>\n",
              "  </tbody>\n",
              "</table>\n",
              "</div>\n",
              "    <div class=\"colab-df-buttons\">\n",
              "\n",
              "  <div class=\"colab-df-container\">\n",
              "    <button class=\"colab-df-convert\" onclick=\"convertToInteractive('df-a8bea3b7-d5c6-44cd-8559-0d37ebb9b81c')\"\n",
              "            title=\"Convert this dataframe to an interactive table.\"\n",
              "            style=\"display:none;\">\n",
              "\n",
              "  <svg xmlns=\"http://www.w3.org/2000/svg\" height=\"24px\" viewBox=\"0 -960 960 960\">\n",
              "    <path d=\"M120-120v-720h720v720H120Zm60-500h600v-160H180v160Zm220 220h160v-160H400v160Zm0 220h160v-160H400v160ZM180-400h160v-160H180v160Zm440 0h160v-160H620v160ZM180-180h160v-160H180v160Zm440 0h160v-160H620v160Z\"/>\n",
              "  </svg>\n",
              "    </button>\n",
              "\n",
              "  <style>\n",
              "    .colab-df-container {\n",
              "      display:flex;\n",
              "      gap: 12px;\n",
              "    }\n",
              "\n",
              "    .colab-df-convert {\n",
              "      background-color: #E8F0FE;\n",
              "      border: none;\n",
              "      border-radius: 50%;\n",
              "      cursor: pointer;\n",
              "      display: none;\n",
              "      fill: #1967D2;\n",
              "      height: 32px;\n",
              "      padding: 0 0 0 0;\n",
              "      width: 32px;\n",
              "    }\n",
              "\n",
              "    .colab-df-convert:hover {\n",
              "      background-color: #E2EBFA;\n",
              "      box-shadow: 0px 1px 2px rgba(60, 64, 67, 0.3), 0px 1px 3px 1px rgba(60, 64, 67, 0.15);\n",
              "      fill: #174EA6;\n",
              "    }\n",
              "\n",
              "    .colab-df-buttons div {\n",
              "      margin-bottom: 4px;\n",
              "    }\n",
              "\n",
              "    [theme=dark] .colab-df-convert {\n",
              "      background-color: #3B4455;\n",
              "      fill: #D2E3FC;\n",
              "    }\n",
              "\n",
              "    [theme=dark] .colab-df-convert:hover {\n",
              "      background-color: #434B5C;\n",
              "      box-shadow: 0px 1px 3px 1px rgba(0, 0, 0, 0.15);\n",
              "      filter: drop-shadow(0px 1px 2px rgba(0, 0, 0, 0.3));\n",
              "      fill: #FFFFFF;\n",
              "    }\n",
              "  </style>\n",
              "\n",
              "    <script>\n",
              "      const buttonEl =\n",
              "        document.querySelector('#df-a8bea3b7-d5c6-44cd-8559-0d37ebb9b81c button.colab-df-convert');\n",
              "      buttonEl.style.display =\n",
              "        google.colab.kernel.accessAllowed ? 'block' : 'none';\n",
              "\n",
              "      async function convertToInteractive(key) {\n",
              "        const element = document.querySelector('#df-a8bea3b7-d5c6-44cd-8559-0d37ebb9b81c');\n",
              "        const dataTable =\n",
              "          await google.colab.kernel.invokeFunction('convertToInteractive',\n",
              "                                                    [key], {});\n",
              "        if (!dataTable) return;\n",
              "\n",
              "        const docLinkHtml = 'Like what you see? Visit the ' +\n",
              "          '<a target=\"_blank\" href=https://colab.research.google.com/notebooks/data_table.ipynb>data table notebook</a>'\n",
              "          + ' to learn more about interactive tables.';\n",
              "        element.innerHTML = '';\n",
              "        dataTable['output_type'] = 'display_data';\n",
              "        await google.colab.output.renderOutput(dataTable, element);\n",
              "        const docLink = document.createElement('div');\n",
              "        docLink.innerHTML = docLinkHtml;\n",
              "        element.appendChild(docLink);\n",
              "      }\n",
              "    </script>\n",
              "  </div>\n",
              "\n",
              "\n",
              "<div id=\"df-724e1853-a6b0-46f5-a385-2e777587a2fa\">\n",
              "  <button class=\"colab-df-quickchart\" onclick=\"quickchart('df-724e1853-a6b0-46f5-a385-2e777587a2fa')\"\n",
              "            title=\"Suggest charts.\"\n",
              "            style=\"display:none;\">\n",
              "\n",
              "<svg xmlns=\"http://www.w3.org/2000/svg\" height=\"24px\"viewBox=\"0 0 24 24\"\n",
              "     width=\"24px\">\n",
              "    <g>\n",
              "        <path d=\"M19 3H5c-1.1 0-2 .9-2 2v14c0 1.1.9 2 2 2h14c1.1 0 2-.9 2-2V5c0-1.1-.9-2-2-2zM9 17H7v-7h2v7zm4 0h-2V7h2v10zm4 0h-2v-4h2v4z\"/>\n",
              "    </g>\n",
              "</svg>\n",
              "  </button>\n",
              "\n",
              "<style>\n",
              "  .colab-df-quickchart {\n",
              "      --bg-color: #E8F0FE;\n",
              "      --fill-color: #1967D2;\n",
              "      --hover-bg-color: #E2EBFA;\n",
              "      --hover-fill-color: #174EA6;\n",
              "      --disabled-fill-color: #AAA;\n",
              "      --disabled-bg-color: #DDD;\n",
              "  }\n",
              "\n",
              "  [theme=dark] .colab-df-quickchart {\n",
              "      --bg-color: #3B4455;\n",
              "      --fill-color: #D2E3FC;\n",
              "      --hover-bg-color: #434B5C;\n",
              "      --hover-fill-color: #FFFFFF;\n",
              "      --disabled-bg-color: #3B4455;\n",
              "      --disabled-fill-color: #666;\n",
              "  }\n",
              "\n",
              "  .colab-df-quickchart {\n",
              "    background-color: var(--bg-color);\n",
              "    border: none;\n",
              "    border-radius: 50%;\n",
              "    cursor: pointer;\n",
              "    display: none;\n",
              "    fill: var(--fill-color);\n",
              "    height: 32px;\n",
              "    padding: 0;\n",
              "    width: 32px;\n",
              "  }\n",
              "\n",
              "  .colab-df-quickchart:hover {\n",
              "    background-color: var(--hover-bg-color);\n",
              "    box-shadow: 0 1px 2px rgba(60, 64, 67, 0.3), 0 1px 3px 1px rgba(60, 64, 67, 0.15);\n",
              "    fill: var(--button-hover-fill-color);\n",
              "  }\n",
              "\n",
              "  .colab-df-quickchart-complete:disabled,\n",
              "  .colab-df-quickchart-complete:disabled:hover {\n",
              "    background-color: var(--disabled-bg-color);\n",
              "    fill: var(--disabled-fill-color);\n",
              "    box-shadow: none;\n",
              "  }\n",
              "\n",
              "  .colab-df-spinner {\n",
              "    border: 2px solid var(--fill-color);\n",
              "    border-color: transparent;\n",
              "    border-bottom-color: var(--fill-color);\n",
              "    animation:\n",
              "      spin 1s steps(1) infinite;\n",
              "  }\n",
              "\n",
              "  @keyframes spin {\n",
              "    0% {\n",
              "      border-color: transparent;\n",
              "      border-bottom-color: var(--fill-color);\n",
              "      border-left-color: var(--fill-color);\n",
              "    }\n",
              "    20% {\n",
              "      border-color: transparent;\n",
              "      border-left-color: var(--fill-color);\n",
              "      border-top-color: var(--fill-color);\n",
              "    }\n",
              "    30% {\n",
              "      border-color: transparent;\n",
              "      border-left-color: var(--fill-color);\n",
              "      border-top-color: var(--fill-color);\n",
              "      border-right-color: var(--fill-color);\n",
              "    }\n",
              "    40% {\n",
              "      border-color: transparent;\n",
              "      border-right-color: var(--fill-color);\n",
              "      border-top-color: var(--fill-color);\n",
              "    }\n",
              "    60% {\n",
              "      border-color: transparent;\n",
              "      border-right-color: var(--fill-color);\n",
              "    }\n",
              "    80% {\n",
              "      border-color: transparent;\n",
              "      border-right-color: var(--fill-color);\n",
              "      border-bottom-color: var(--fill-color);\n",
              "    }\n",
              "    90% {\n",
              "      border-color: transparent;\n",
              "      border-bottom-color: var(--fill-color);\n",
              "    }\n",
              "  }\n",
              "</style>\n",
              "\n",
              "  <script>\n",
              "    async function quickchart(key) {\n",
              "      const quickchartButtonEl =\n",
              "        document.querySelector('#' + key + ' button');\n",
              "      quickchartButtonEl.disabled = true;  // To prevent multiple clicks.\n",
              "      quickchartButtonEl.classList.add('colab-df-spinner');\n",
              "      try {\n",
              "        const charts = await google.colab.kernel.invokeFunction(\n",
              "            'suggestCharts', [key], {});\n",
              "      } catch (error) {\n",
              "        console.error('Error during call to suggestCharts:', error);\n",
              "      }\n",
              "      quickchartButtonEl.classList.remove('colab-df-spinner');\n",
              "      quickchartButtonEl.classList.add('colab-df-quickchart-complete');\n",
              "    }\n",
              "    (() => {\n",
              "      let quickchartButtonEl =\n",
              "        document.querySelector('#df-724e1853-a6b0-46f5-a385-2e777587a2fa button');\n",
              "      quickchartButtonEl.style.display =\n",
              "        google.colab.kernel.accessAllowed ? 'block' : 'none';\n",
              "    })();\n",
              "  </script>\n",
              "</div>\n",
              "    </div>\n",
              "  </div>\n"
            ]
          },
          "metadata": {},
          "execution_count": 70
        }
      ]
    },
    {
      "cell_type": "code",
      "source": [
        "df.groupby(\"sex\")[\"survived\"].mean()"
      ],
      "metadata": {
        "colab": {
          "base_uri": "https://localhost:8080/"
        },
        "id": "nwNkhO2RI8Ay",
        "outputId": "61032f7c-3420-42cf-e782-925f6e579662"
      },
      "execution_count": 69,
      "outputs": [
        {
          "output_type": "execute_result",
          "data": {
            "text/plain": [
              "sex\n",
              "female    0.742038\n",
              "male      0.188908\n",
              "Name: survived, dtype: float64"
            ]
          },
          "metadata": {},
          "execution_count": 69
        }
      ]
    },
    {
      "cell_type": "code",
      "source": [
        "def target_summary_with_cat(dataframe, target, categorical_col):\n",
        "  print(pd.DataFrame({\"TARGET_MEAN\": dataframe.groupby(categorical_col)[target].mean()}))"
      ],
      "metadata": {
        "id": "CywddUiuJ6Fg"
      },
      "execution_count": 71,
      "outputs": []
    },
    {
      "cell_type": "code",
      "source": [
        "target_summary_with_cat(df, \"survived\",\"sex\")"
      ],
      "metadata": {
        "colab": {
          "base_uri": "https://localhost:8080/"
        },
        "id": "UTFLXyvrKdKx",
        "outputId": "50c3e1b9-b8c9-4066-ec53-86f03920ac86"
      },
      "execution_count": 72,
      "outputs": [
        {
          "output_type": "stream",
          "name": "stdout",
          "text": [
            "        TARGET_MEAN\n",
            "sex                \n",
            "female     0.742038\n",
            "male       0.188908\n"
          ]
        }
      ]
    },
    {
      "cell_type": "code",
      "source": [
        "target_summary_with_cat(df, \"survived\",\"pclass\")"
      ],
      "metadata": {
        "colab": {
          "base_uri": "https://localhost:8080/"
        },
        "id": "CLDVeb-UKoJ9",
        "outputId": "d378c3c4-a1a8-4123-acfb-c71a10f5d2b7"
      },
      "execution_count": 73,
      "outputs": [
        {
          "output_type": "stream",
          "name": "stdout",
          "text": [
            "        TARGET_MEAN\n",
            "pclass             \n",
            "1          0.629630\n",
            "2          0.472826\n",
            "3          0.242363\n"
          ]
        }
      ]
    },
    {
      "cell_type": "code",
      "source": [
        "for col in cat_cols:\n",
        "  target_summary_with_cat(df, \"survived\", col)"
      ],
      "metadata": {
        "colab": {
          "base_uri": "https://localhost:8080/"
        },
        "id": "jLKpribjKvLp",
        "outputId": "c13703ae-aaa3-473d-afdb-861b353b5a97"
      },
      "execution_count": 74,
      "outputs": [
        {
          "output_type": "stream",
          "name": "stdout",
          "text": [
            "        TARGET_MEAN\n",
            "sex                \n",
            "female     0.742038\n",
            "male       0.188908\n",
            "          TARGET_MEAN\n",
            "embarked             \n",
            "C            0.553571\n",
            "Q            0.389610\n",
            "S            0.336957\n",
            "        TARGET_MEAN\n",
            "class              \n",
            "First      0.629630\n",
            "Second     0.472826\n",
            "Third      0.242363\n",
            "       TARGET_MEAN\n",
            "who               \n",
            "child     0.590361\n",
            "man       0.163873\n",
            "woman     0.756458\n",
            "      TARGET_MEAN\n",
            "deck             \n",
            "A        0.466667\n",
            "B        0.744681\n",
            "C        0.593220\n",
            "D        0.757576\n",
            "E        0.750000\n",
            "F        0.615385\n",
            "G        0.500000\n",
            "             TARGET_MEAN\n",
            "embark_town             \n",
            "Cherbourg       0.553571\n",
            "Queenstown      0.389610\n",
            "Southampton     0.336957\n",
            "       TARGET_MEAN\n",
            "alive             \n",
            "no             0.0\n",
            "yes            1.0\n",
            "          TARGET_MEAN\n",
            "survived             \n",
            "0                 0.0\n",
            "1                 1.0\n",
            "        TARGET_MEAN\n",
            "pclass             \n",
            "1          0.629630\n",
            "2          0.472826\n",
            "3          0.242363\n",
            "       TARGET_MEAN\n",
            "sibsp             \n",
            "0         0.345395\n",
            "1         0.535885\n",
            "2         0.464286\n",
            "3         0.250000\n",
            "4         0.166667\n",
            "5         0.000000\n",
            "8         0.000000\n",
            "       TARGET_MEAN\n",
            "parch             \n",
            "0         0.343658\n",
            "1         0.550847\n",
            "2         0.500000\n",
            "3         0.600000\n",
            "4         0.000000\n",
            "5         0.200000\n",
            "6         0.000000\n",
            "            TARGET_MEAN\n",
            "adult_male             \n",
            "0              0.717514\n",
            "1              0.163873\n",
            "       TARGET_MEAN\n",
            "alone             \n",
            "0         0.505650\n",
            "1         0.303538\n"
          ]
        }
      ]
    },
    {
      "cell_type": "code",
      "source": [
        "df.groupby(\"survived\")[\"age\"].mean()"
      ],
      "metadata": {
        "colab": {
          "base_uri": "https://localhost:8080/"
        },
        "id": "BIABGHQnLBRP",
        "outputId": "00f027b6-8010-4d78-9f4a-f509a882d391"
      },
      "execution_count": 75,
      "outputs": [
        {
          "output_type": "execute_result",
          "data": {
            "text/plain": [
              "survived\n",
              "0    30.626179\n",
              "1    28.343690\n",
              "Name: age, dtype: float64"
            ]
          },
          "metadata": {},
          "execution_count": 75
        }
      ]
    },
    {
      "cell_type": "code",
      "source": [
        "df.groupby(\"survived\").agg({\"age\":\"mean\"})"
      ],
      "metadata": {
        "colab": {
          "base_uri": "https://localhost:8080/",
          "height": 144
        },
        "id": "4-kktmF9MRua",
        "outputId": "d3819656-b6a1-4fb3-eb38-96432f2ebc9d"
      },
      "execution_count": 76,
      "outputs": [
        {
          "output_type": "execute_result",
          "data": {
            "text/plain": [
              "                age\n",
              "survived           \n",
              "0         30.626179\n",
              "1         28.343690"
            ],
            "text/html": [
              "\n",
              "  <div id=\"df-b9551d4e-4f1d-47f5-8ba4-4f2f73756877\" class=\"colab-df-container\">\n",
              "    <div>\n",
              "<style scoped>\n",
              "    .dataframe tbody tr th:only-of-type {\n",
              "        vertical-align: middle;\n",
              "    }\n",
              "\n",
              "    .dataframe tbody tr th {\n",
              "        vertical-align: top;\n",
              "    }\n",
              "\n",
              "    .dataframe thead th {\n",
              "        text-align: right;\n",
              "    }\n",
              "</style>\n",
              "<table border=\"1\" class=\"dataframe\">\n",
              "  <thead>\n",
              "    <tr style=\"text-align: right;\">\n",
              "      <th></th>\n",
              "      <th>age</th>\n",
              "    </tr>\n",
              "    <tr>\n",
              "      <th>survived</th>\n",
              "      <th></th>\n",
              "    </tr>\n",
              "  </thead>\n",
              "  <tbody>\n",
              "    <tr>\n",
              "      <th>0</th>\n",
              "      <td>30.626179</td>\n",
              "    </tr>\n",
              "    <tr>\n",
              "      <th>1</th>\n",
              "      <td>28.343690</td>\n",
              "    </tr>\n",
              "  </tbody>\n",
              "</table>\n",
              "</div>\n",
              "    <div class=\"colab-df-buttons\">\n",
              "\n",
              "  <div class=\"colab-df-container\">\n",
              "    <button class=\"colab-df-convert\" onclick=\"convertToInteractive('df-b9551d4e-4f1d-47f5-8ba4-4f2f73756877')\"\n",
              "            title=\"Convert this dataframe to an interactive table.\"\n",
              "            style=\"display:none;\">\n",
              "\n",
              "  <svg xmlns=\"http://www.w3.org/2000/svg\" height=\"24px\" viewBox=\"0 -960 960 960\">\n",
              "    <path d=\"M120-120v-720h720v720H120Zm60-500h600v-160H180v160Zm220 220h160v-160H400v160Zm0 220h160v-160H400v160ZM180-400h160v-160H180v160Zm440 0h160v-160H620v160ZM180-180h160v-160H180v160Zm440 0h160v-160H620v160Z\"/>\n",
              "  </svg>\n",
              "    </button>\n",
              "\n",
              "  <style>\n",
              "    .colab-df-container {\n",
              "      display:flex;\n",
              "      gap: 12px;\n",
              "    }\n",
              "\n",
              "    .colab-df-convert {\n",
              "      background-color: #E8F0FE;\n",
              "      border: none;\n",
              "      border-radius: 50%;\n",
              "      cursor: pointer;\n",
              "      display: none;\n",
              "      fill: #1967D2;\n",
              "      height: 32px;\n",
              "      padding: 0 0 0 0;\n",
              "      width: 32px;\n",
              "    }\n",
              "\n",
              "    .colab-df-convert:hover {\n",
              "      background-color: #E2EBFA;\n",
              "      box-shadow: 0px 1px 2px rgba(60, 64, 67, 0.3), 0px 1px 3px 1px rgba(60, 64, 67, 0.15);\n",
              "      fill: #174EA6;\n",
              "    }\n",
              "\n",
              "    .colab-df-buttons div {\n",
              "      margin-bottom: 4px;\n",
              "    }\n",
              "\n",
              "    [theme=dark] .colab-df-convert {\n",
              "      background-color: #3B4455;\n",
              "      fill: #D2E3FC;\n",
              "    }\n",
              "\n",
              "    [theme=dark] .colab-df-convert:hover {\n",
              "      background-color: #434B5C;\n",
              "      box-shadow: 0px 1px 3px 1px rgba(0, 0, 0, 0.15);\n",
              "      filter: drop-shadow(0px 1px 2px rgba(0, 0, 0, 0.3));\n",
              "      fill: #FFFFFF;\n",
              "    }\n",
              "  </style>\n",
              "\n",
              "    <script>\n",
              "      const buttonEl =\n",
              "        document.querySelector('#df-b9551d4e-4f1d-47f5-8ba4-4f2f73756877 button.colab-df-convert');\n",
              "      buttonEl.style.display =\n",
              "        google.colab.kernel.accessAllowed ? 'block' : 'none';\n",
              "\n",
              "      async function convertToInteractive(key) {\n",
              "        const element = document.querySelector('#df-b9551d4e-4f1d-47f5-8ba4-4f2f73756877');\n",
              "        const dataTable =\n",
              "          await google.colab.kernel.invokeFunction('convertToInteractive',\n",
              "                                                    [key], {});\n",
              "        if (!dataTable) return;\n",
              "\n",
              "        const docLinkHtml = 'Like what you see? Visit the ' +\n",
              "          '<a target=\"_blank\" href=https://colab.research.google.com/notebooks/data_table.ipynb>data table notebook</a>'\n",
              "          + ' to learn more about interactive tables.';\n",
              "        element.innerHTML = '';\n",
              "        dataTable['output_type'] = 'display_data';\n",
              "        await google.colab.output.renderOutput(dataTable, element);\n",
              "        const docLink = document.createElement('div');\n",
              "        docLink.innerHTML = docLinkHtml;\n",
              "        element.appendChild(docLink);\n",
              "      }\n",
              "    </script>\n",
              "  </div>\n",
              "\n",
              "\n",
              "<div id=\"df-c4ce567c-1e32-439f-8989-b255d48222df\">\n",
              "  <button class=\"colab-df-quickchart\" onclick=\"quickchart('df-c4ce567c-1e32-439f-8989-b255d48222df')\"\n",
              "            title=\"Suggest charts.\"\n",
              "            style=\"display:none;\">\n",
              "\n",
              "<svg xmlns=\"http://www.w3.org/2000/svg\" height=\"24px\"viewBox=\"0 0 24 24\"\n",
              "     width=\"24px\">\n",
              "    <g>\n",
              "        <path d=\"M19 3H5c-1.1 0-2 .9-2 2v14c0 1.1.9 2 2 2h14c1.1 0 2-.9 2-2V5c0-1.1-.9-2-2-2zM9 17H7v-7h2v7zm4 0h-2V7h2v10zm4 0h-2v-4h2v4z\"/>\n",
              "    </g>\n",
              "</svg>\n",
              "  </button>\n",
              "\n",
              "<style>\n",
              "  .colab-df-quickchart {\n",
              "      --bg-color: #E8F0FE;\n",
              "      --fill-color: #1967D2;\n",
              "      --hover-bg-color: #E2EBFA;\n",
              "      --hover-fill-color: #174EA6;\n",
              "      --disabled-fill-color: #AAA;\n",
              "      --disabled-bg-color: #DDD;\n",
              "  }\n",
              "\n",
              "  [theme=dark] .colab-df-quickchart {\n",
              "      --bg-color: #3B4455;\n",
              "      --fill-color: #D2E3FC;\n",
              "      --hover-bg-color: #434B5C;\n",
              "      --hover-fill-color: #FFFFFF;\n",
              "      --disabled-bg-color: #3B4455;\n",
              "      --disabled-fill-color: #666;\n",
              "  }\n",
              "\n",
              "  .colab-df-quickchart {\n",
              "    background-color: var(--bg-color);\n",
              "    border: none;\n",
              "    border-radius: 50%;\n",
              "    cursor: pointer;\n",
              "    display: none;\n",
              "    fill: var(--fill-color);\n",
              "    height: 32px;\n",
              "    padding: 0;\n",
              "    width: 32px;\n",
              "  }\n",
              "\n",
              "  .colab-df-quickchart:hover {\n",
              "    background-color: var(--hover-bg-color);\n",
              "    box-shadow: 0 1px 2px rgba(60, 64, 67, 0.3), 0 1px 3px 1px rgba(60, 64, 67, 0.15);\n",
              "    fill: var(--button-hover-fill-color);\n",
              "  }\n",
              "\n",
              "  .colab-df-quickchart-complete:disabled,\n",
              "  .colab-df-quickchart-complete:disabled:hover {\n",
              "    background-color: var(--disabled-bg-color);\n",
              "    fill: var(--disabled-fill-color);\n",
              "    box-shadow: none;\n",
              "  }\n",
              "\n",
              "  .colab-df-spinner {\n",
              "    border: 2px solid var(--fill-color);\n",
              "    border-color: transparent;\n",
              "    border-bottom-color: var(--fill-color);\n",
              "    animation:\n",
              "      spin 1s steps(1) infinite;\n",
              "  }\n",
              "\n",
              "  @keyframes spin {\n",
              "    0% {\n",
              "      border-color: transparent;\n",
              "      border-bottom-color: var(--fill-color);\n",
              "      border-left-color: var(--fill-color);\n",
              "    }\n",
              "    20% {\n",
              "      border-color: transparent;\n",
              "      border-left-color: var(--fill-color);\n",
              "      border-top-color: var(--fill-color);\n",
              "    }\n",
              "    30% {\n",
              "      border-color: transparent;\n",
              "      border-left-color: var(--fill-color);\n",
              "      border-top-color: var(--fill-color);\n",
              "      border-right-color: var(--fill-color);\n",
              "    }\n",
              "    40% {\n",
              "      border-color: transparent;\n",
              "      border-right-color: var(--fill-color);\n",
              "      border-top-color: var(--fill-color);\n",
              "    }\n",
              "    60% {\n",
              "      border-color: transparent;\n",
              "      border-right-color: var(--fill-color);\n",
              "    }\n",
              "    80% {\n",
              "      border-color: transparent;\n",
              "      border-right-color: var(--fill-color);\n",
              "      border-bottom-color: var(--fill-color);\n",
              "    }\n",
              "    90% {\n",
              "      border-color: transparent;\n",
              "      border-bottom-color: var(--fill-color);\n",
              "    }\n",
              "  }\n",
              "</style>\n",
              "\n",
              "  <script>\n",
              "    async function quickchart(key) {\n",
              "      const quickchartButtonEl =\n",
              "        document.querySelector('#' + key + ' button');\n",
              "      quickchartButtonEl.disabled = true;  // To prevent multiple clicks.\n",
              "      quickchartButtonEl.classList.add('colab-df-spinner');\n",
              "      try {\n",
              "        const charts = await google.colab.kernel.invokeFunction(\n",
              "            'suggestCharts', [key], {});\n",
              "      } catch (error) {\n",
              "        console.error('Error during call to suggestCharts:', error);\n",
              "      }\n",
              "      quickchartButtonEl.classList.remove('colab-df-spinner');\n",
              "      quickchartButtonEl.classList.add('colab-df-quickchart-complete');\n",
              "    }\n",
              "    (() => {\n",
              "      let quickchartButtonEl =\n",
              "        document.querySelector('#df-c4ce567c-1e32-439f-8989-b255d48222df button');\n",
              "      quickchartButtonEl.style.display =\n",
              "        google.colab.kernel.accessAllowed ? 'block' : 'none';\n",
              "    })();\n",
              "  </script>\n",
              "</div>\n",
              "    </div>\n",
              "  </div>\n"
            ]
          },
          "metadata": {},
          "execution_count": 76
        }
      ]
    },
    {
      "cell_type": "code",
      "source": [
        "def target_summary_with_num(dataframe, target, numerical_col):\n",
        "  print(dataframe.groupby(target).agg({numerical_col: \"mean\"}), end= \"\\n\\n\\n\")"
      ],
      "metadata": {
        "id": "4qE2CsSTMqXL"
      },
      "execution_count": 77,
      "outputs": []
    },
    {
      "cell_type": "code",
      "source": [
        "target_summary_with_num(df, \"survived\", \"age\")"
      ],
      "metadata": {
        "colab": {
          "base_uri": "https://localhost:8080/"
        },
        "id": "qeYGRx4DNJ73",
        "outputId": "d3a5658e-558a-4ec0-fdf4-81ab6b97cf2d"
      },
      "execution_count": 78,
      "outputs": [
        {
          "output_type": "stream",
          "name": "stdout",
          "text": [
            "                age\n",
            "survived           \n",
            "0         30.626179\n",
            "1         28.343690\n",
            "\n",
            "\n"
          ]
        }
      ]
    },
    {
      "cell_type": "code",
      "source": [
        "for col in num_cols:\n",
        "  target_summary_with_num(df, \"survived\", col)"
      ],
      "metadata": {
        "colab": {
          "base_uri": "https://localhost:8080/"
        },
        "id": "McF48Tu-NUuT",
        "outputId": "d533c8a0-ff98-4459-ef3f-73643c1279df"
      },
      "execution_count": 79,
      "outputs": [
        {
          "output_type": "stream",
          "name": "stdout",
          "text": [
            "                age\n",
            "survived           \n",
            "0         30.626179\n",
            "1         28.343690\n",
            "\n",
            "\n",
            "               fare\n",
            "survived           \n",
            "0         22.117887\n",
            "1         48.395408\n",
            "\n",
            "\n"
          ]
        }
      ]
    },
    {
      "cell_type": "code",
      "source": [],
      "metadata": {
        "id": "jIkg3_P1oXh4"
      },
      "execution_count": null,
      "outputs": []
    }
  ]
}